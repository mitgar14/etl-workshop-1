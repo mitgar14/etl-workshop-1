{
 "cells": [
  {
   "cell_type": "markdown",
   "metadata": {},
   "source": [
    "# **Workshop #1 - Notebook 2: Exploratory analysis of the dataset (EDA)**\n",
    "This notebook is focused on performing exploratory data analysis (EDA) on the candidates dataset. EDA is a crucial step in the data analysis process as it helps us understand the structure and characteristics of the data. By analyzing the dataset, we can uncover patterns, relationships, and potential insights that can guide further analysis and decision-making.\n",
    "\n",
    "In this notebook, we will explore the dataset using various statistical and visual techniques. We will examine the distribution of variables and investigate relationships between different variables. Through this analysis, we aim to gain a comprehensive under of the dataset and generate meaningful insights.\n",
    "\n",
    "---"
   ]
  },
  {
   "cell_type": "markdown",
   "metadata": {},
   "source": [
    "## ***Reading the data***"
   ]
  },
  {
   "cell_type": "markdown",
   "metadata": {},
   "source": [
    "### **Importing the dependencies**\n",
    "\n",
    "Estaremos usando Pandas para realizar el análisis de los datos a partir de la estructura del dataframe, y Matplotlib y Seaborn para la realización de ciertos gráficos que ayudarán a explicar mejor los insights obtenidos a partir de los datos.\n",
    "\n",
    "---\n",
    "\n",
    "We will be using Pandas to perform the analysis of the data from the dataframe structure, and Matplotlib and Seaborn for the realization of certain graphs that will help to better explain the insights obtained from the data. "
   ]
  },
  {
   "cell_type": "code",
   "execution_count": 92,
   "metadata": {},
   "outputs": [],
   "source": [
    "#import os\n",
    "import pandas as pd\n",
    "\n",
    "import matplotlib.pyplot as plt\n",
    "import seaborn as sns\n",
    "plt.style.use('ggplot')\n",
    "\n",
    "import connection\n",
    "\n",
    "#from dotenv import load_dotenv\n",
    "#from sqlalchemy import create_engine"
   ]
  },
  {
   "cell_type": "markdown",
   "metadata": {},
   "source": [
    "### **Creating the engine**\n",
    "La conexión se relegó a un script de Python denominado *connection.py*: de este script usamos principalmente la función creating_engine, que es la encargada de establecer la conexión mediante SQLAlchemy a una base de datos PostgreSQL.\n",
    "\n",
    "---\n",
    "\n",
    "The connection was relegated to a Python script called *connection.py*: from this script we mainly use the creating_engine function, which is in charge of establishing the connection via SQLAlchemy to a PostgreSQL database."
   ]
  },
  {
   "cell_type": "code",
   "execution_count": 93,
   "metadata": {},
   "outputs": [],
   "source": [
    "engine = connection.creating_engine()"
   ]
  },
  {
   "cell_type": "code",
   "execution_count": 94,
   "metadata": {},
   "outputs": [],
   "source": [
    "# load_dotenv(\"../env/.env\")\n",
    "\n",
    "# driver = os.getenv(\"PG_DRIVER\")\n",
    "\n",
    "# user = os.getenv(\"PG_USER\")\n",
    "# password = os.getenv(\"PG_PASSWORD\")\n",
    "\n",
    "# host = os.getenv(\"PG_HOST\")\n",
    "# port = os.getenv(\"PG_PORT\")\n",
    "\n",
    "# database = os.getenv(\"PG_DATABASE\")"
   ]
  },
  {
   "cell_type": "code",
   "execution_count": 95,
   "metadata": {},
   "outputs": [],
   "source": [
    "# url = f\"{driver}://{user}:{password}@{host}:{port}/{database}\"\n",
    "\n",
    "# engine = create_engine(url)"
   ]
  },
  {
   "cell_type": "markdown",
   "metadata": {},
   "source": [
    "### **Loading the dataset**\n",
    "Leemos el dataset desde una tabla que almacena nuestros datos: esta tabla se encuentra en una base de datos de PostgreSQL que se encuentra vinculada a el motor creado con SQLAlchemy.\n",
    "\n",
    "---\n",
    "\n",
    "We read the dataset from a table that stores our data: this table is located in a PostgreSQL database that is linked to the engine created with SQLAlchemy."
   ]
  },
  {
   "cell_type": "code",
   "execution_count": 96,
   "metadata": {},
   "outputs": [
    {
     "data": {
      "text/html": [
       "<div>\n",
       "<style scoped>\n",
       "    .dataframe tbody tr th:only-of-type {\n",
       "        vertical-align: middle;\n",
       "    }\n",
       "\n",
       "    .dataframe tbody tr th {\n",
       "        vertical-align: top;\n",
       "    }\n",
       "\n",
       "    .dataframe thead th {\n",
       "        text-align: right;\n",
       "    }\n",
       "</style>\n",
       "<table border=\"1\" class=\"dataframe\">\n",
       "  <thead>\n",
       "    <tr style=\"text-align: right;\">\n",
       "      <th></th>\n",
       "      <th>First Name</th>\n",
       "      <th>Last Name</th>\n",
       "      <th>Email</th>\n",
       "      <th>Application Date</th>\n",
       "      <th>Country</th>\n",
       "      <th>YOE</th>\n",
       "      <th>Seniority</th>\n",
       "      <th>Technology</th>\n",
       "      <th>Code Challenge Score</th>\n",
       "      <th>Technical Interview Score</th>\n",
       "    </tr>\n",
       "  </thead>\n",
       "  <tbody>\n",
       "    <tr>\n",
       "      <th>0</th>\n",
       "      <td>Bernadette</td>\n",
       "      <td>Langworth</td>\n",
       "      <td>leonard91@yahoo.com</td>\n",
       "      <td>2021-02-26</td>\n",
       "      <td>Norway</td>\n",
       "      <td>2</td>\n",
       "      <td>Intern</td>\n",
       "      <td>Data Engineer</td>\n",
       "      <td>3</td>\n",
       "      <td>3</td>\n",
       "    </tr>\n",
       "    <tr>\n",
       "      <th>1</th>\n",
       "      <td>Camryn</td>\n",
       "      <td>Reynolds</td>\n",
       "      <td>zelda56@hotmail.com</td>\n",
       "      <td>2021-09-09</td>\n",
       "      <td>Panama</td>\n",
       "      <td>10</td>\n",
       "      <td>Intern</td>\n",
       "      <td>Data Engineer</td>\n",
       "      <td>2</td>\n",
       "      <td>10</td>\n",
       "    </tr>\n",
       "    <tr>\n",
       "      <th>2</th>\n",
       "      <td>Larue</td>\n",
       "      <td>Spinka</td>\n",
       "      <td>okey_schultz41@gmail.com</td>\n",
       "      <td>2020-04-14</td>\n",
       "      <td>Belarus</td>\n",
       "      <td>4</td>\n",
       "      <td>Mid-Level</td>\n",
       "      <td>Client Success</td>\n",
       "      <td>10</td>\n",
       "      <td>9</td>\n",
       "    </tr>\n",
       "    <tr>\n",
       "      <th>3</th>\n",
       "      <td>Arch</td>\n",
       "      <td>Spinka</td>\n",
       "      <td>elvera_kulas@yahoo.com</td>\n",
       "      <td>2020-10-01</td>\n",
       "      <td>Eritrea</td>\n",
       "      <td>25</td>\n",
       "      <td>Trainee</td>\n",
       "      <td>QA Manual</td>\n",
       "      <td>7</td>\n",
       "      <td>1</td>\n",
       "    </tr>\n",
       "    <tr>\n",
       "      <th>4</th>\n",
       "      <td>Larue</td>\n",
       "      <td>Altenwerth</td>\n",
       "      <td>minnie.gislason@gmail.com</td>\n",
       "      <td>2020-05-20</td>\n",
       "      <td>Myanmar</td>\n",
       "      <td>13</td>\n",
       "      <td>Mid-Level</td>\n",
       "      <td>Social Media Community Management</td>\n",
       "      <td>9</td>\n",
       "      <td>7</td>\n",
       "    </tr>\n",
       "    <tr>\n",
       "      <th>...</th>\n",
       "      <td>...</td>\n",
       "      <td>...</td>\n",
       "      <td>...</td>\n",
       "      <td>...</td>\n",
       "      <td>...</td>\n",
       "      <td>...</td>\n",
       "      <td>...</td>\n",
       "      <td>...</td>\n",
       "      <td>...</td>\n",
       "      <td>...</td>\n",
       "    </tr>\n",
       "    <tr>\n",
       "      <th>49995</th>\n",
       "      <td>Bethany</td>\n",
       "      <td>Shields</td>\n",
       "      <td>rocky_mitchell@hotmail.com</td>\n",
       "      <td>2022-01-09</td>\n",
       "      <td>Dominican Republic</td>\n",
       "      <td>27</td>\n",
       "      <td>Trainee</td>\n",
       "      <td>Security</td>\n",
       "      <td>2</td>\n",
       "      <td>1</td>\n",
       "    </tr>\n",
       "    <tr>\n",
       "      <th>49996</th>\n",
       "      <td>Era</td>\n",
       "      <td>Swaniawski</td>\n",
       "      <td>dolores.roob@hotmail.com</td>\n",
       "      <td>2020-06-02</td>\n",
       "      <td>Morocco</td>\n",
       "      <td>21</td>\n",
       "      <td>Lead</td>\n",
       "      <td>Game Development</td>\n",
       "      <td>1</td>\n",
       "      <td>2</td>\n",
       "    </tr>\n",
       "    <tr>\n",
       "      <th>49997</th>\n",
       "      <td>Martin</td>\n",
       "      <td>Lakin</td>\n",
       "      <td>savanah.stracke@gmail.com</td>\n",
       "      <td>2018-12-15</td>\n",
       "      <td>Uganda</td>\n",
       "      <td>20</td>\n",
       "      <td>Trainee</td>\n",
       "      <td>System Administration</td>\n",
       "      <td>6</td>\n",
       "      <td>1</td>\n",
       "    </tr>\n",
       "    <tr>\n",
       "      <th>49998</th>\n",
       "      <td>Aliya</td>\n",
       "      <td>Abernathy</td>\n",
       "      <td>vivienne.fritsch@yahoo.com</td>\n",
       "      <td>2020-05-30</td>\n",
       "      <td>Czech Republic</td>\n",
       "      <td>20</td>\n",
       "      <td>Senior</td>\n",
       "      <td>Database Administration</td>\n",
       "      <td>0</td>\n",
       "      <td>0</td>\n",
       "    </tr>\n",
       "    <tr>\n",
       "      <th>49999</th>\n",
       "      <td>Coleman</td>\n",
       "      <td>Wisozk</td>\n",
       "      <td>abigayle.crooks@yahoo.com</td>\n",
       "      <td>2022-06-13</td>\n",
       "      <td>Palau</td>\n",
       "      <td>15</td>\n",
       "      <td>Intern</td>\n",
       "      <td>Mulesoft</td>\n",
       "      <td>3</td>\n",
       "      <td>1</td>\n",
       "    </tr>\n",
       "  </tbody>\n",
       "</table>\n",
       "<p>50000 rows × 10 columns</p>\n",
       "</div>"
      ],
      "text/plain": [
       "       First Name   Last Name                       Email Application Date  \\\n",
       "0      Bernadette   Langworth         leonard91@yahoo.com       2021-02-26   \n",
       "1          Camryn    Reynolds         zelda56@hotmail.com       2021-09-09   \n",
       "2           Larue      Spinka    okey_schultz41@gmail.com       2020-04-14   \n",
       "3            Arch      Spinka      elvera_kulas@yahoo.com       2020-10-01   \n",
       "4           Larue  Altenwerth   minnie.gislason@gmail.com       2020-05-20   \n",
       "...           ...         ...                         ...              ...   \n",
       "49995     Bethany     Shields  rocky_mitchell@hotmail.com       2022-01-09   \n",
       "49996         Era  Swaniawski    dolores.roob@hotmail.com       2020-06-02   \n",
       "49997      Martin       Lakin   savanah.stracke@gmail.com       2018-12-15   \n",
       "49998       Aliya   Abernathy  vivienne.fritsch@yahoo.com       2020-05-30   \n",
       "49999     Coleman      Wisozk   abigayle.crooks@yahoo.com       2022-06-13   \n",
       "\n",
       "                  Country  YOE  Seniority                         Technology  \\\n",
       "0                  Norway    2     Intern                      Data Engineer   \n",
       "1                  Panama   10     Intern                      Data Engineer   \n",
       "2                 Belarus    4  Mid-Level                     Client Success   \n",
       "3                 Eritrea   25    Trainee                          QA Manual   \n",
       "4                 Myanmar   13  Mid-Level  Social Media Community Management   \n",
       "...                   ...  ...        ...                                ...   \n",
       "49995  Dominican Republic   27    Trainee                           Security   \n",
       "49996             Morocco   21       Lead                   Game Development   \n",
       "49997              Uganda   20    Trainee              System Administration   \n",
       "49998      Czech Republic   20     Senior            Database Administration   \n",
       "49999               Palau   15     Intern                           Mulesoft   \n",
       "\n",
       "       Code Challenge Score  Technical Interview Score  \n",
       "0                         3                          3  \n",
       "1                         2                         10  \n",
       "2                        10                          9  \n",
       "3                         7                          1  \n",
       "4                         9                          7  \n",
       "...                     ...                        ...  \n",
       "49995                     2                          1  \n",
       "49996                     1                          2  \n",
       "49997                     6                          1  \n",
       "49998                     0                          0  \n",
       "49999                     3                          1  \n",
       "\n",
       "[50000 rows x 10 columns]"
      ]
     },
     "execution_count": 96,
     "metadata": {},
     "output_type": "execute_result"
    }
   ],
   "source": [
    "df = pd.read_sql_table(\"candidates_raw\", engine, parse_dates=[\"Application Date\"])\n",
    "df"
   ]
  },
  {
   "cell_type": "markdown",
   "metadata": {},
   "source": [
    "## ***Data preparation***"
   ]
  },
  {
   "cell_type": "markdown",
   "metadata": {},
   "source": [
    "Columns are renamed with a ***Snake case*** format in order to facilitate queries using `df.query()`."
   ]
  },
  {
   "cell_type": "code",
   "execution_count": 97,
   "metadata": {},
   "outputs": [],
   "source": [
    "renamed_columns = {\n",
    "    'First Name': 'first_name',\n",
    "    'Last Name': 'last_name',\n",
    "    'Email': 'email',\n",
    "    'Application Date': 'application_date',\n",
    "    'Country': 'country',\n",
    "    'YOE': 'yoe',\n",
    "    'Seniority': 'seniority',\n",
    "    'Technology': 'technology',\n",
    "    'Code Challenge Score': 'code_challenge_score',\n",
    "    'Technical Interview Score': 'technical_interview_score'\n",
    "}\n",
    "\n",
    "df = df.rename(columns=renamed_columns)"
   ]
  },
  {
   "cell_type": "markdown",
   "metadata": {},
   "source": [
    "## ***Data understanding***"
   ]
  },
  {
   "cell_type": "markdown",
   "metadata": {},
   "source": [
    "### **Data columns' info**\n",
    "\n",
    "El anterior informe nos otorga múltiples conclusiones:\n",
    "\n",
    "* Los Dtypes de las distintas columnas resultan apropiadas para realizar un análisis del dataset sin muchas complicaciones: **no se requiere una transformación profunda** en este aspecto.\n",
    "\n",
    "* Existen 50000 registros en el dataframe. Teniendo esto en cuenta al revisar el conteo de datos que no son nulos podemos concluir que **no hay ningún dato nulo**.\n",
    "\n",
    "---\n",
    "\n",
    "The previous report gives us multiple conclusions:\n",
    "\n",
    "* The Dtypes of the different columns are appropriate to perform an analysis of the dataset without many complications: **no deep transformation is required** in this aspect.\n",
    "\n",
    "* There are 50,000 entries in the dataframe. Taking this into account when reviewing the count of non-null data we can conclude that **there is no null data**."
   ]
  },
  {
   "cell_type": "code",
   "execution_count": 98,
   "metadata": {},
   "outputs": [
    {
     "name": "stdout",
     "output_type": "stream",
     "text": [
      "<class 'pandas.core.frame.DataFrame'>\n",
      "RangeIndex: 50000 entries, 0 to 49999\n",
      "Data columns (total 10 columns):\n",
      " #   Column                     Non-Null Count  Dtype         \n",
      "---  ------                     --------------  -----         \n",
      " 0   first_name                 50000 non-null  object        \n",
      " 1   last_name                  50000 non-null  object        \n",
      " 2   email                      50000 non-null  object        \n",
      " 3   application_date           50000 non-null  datetime64[ns]\n",
      " 4   country                    50000 non-null  object        \n",
      " 5   yoe                        50000 non-null  int64         \n",
      " 6   seniority                  50000 non-null  object        \n",
      " 7   technology                 50000 non-null  object        \n",
      " 8   code_challenge_score       50000 non-null  int64         \n",
      " 9   technical_interview_score  50000 non-null  int64         \n",
      "dtypes: datetime64[ns](1), int64(3), object(6)\n",
      "memory usage: 3.8+ MB\n"
     ]
    }
   ],
   "source": [
    "df.info()"
   ]
  },
  {
   "cell_type": "markdown",
   "metadata": {},
   "source": [
    "### **Reviewing if there's any duplicate row**\n",
    "\n",
    "**No hay ningún registro duplicado** en el dataset.\n",
    "\n",
    "---\n",
    "\n",
    "**There isn't any duplicated entry** in the dataset."
   ]
  },
  {
   "cell_type": "code",
   "execution_count": 99,
   "metadata": {},
   "outputs": [
    {
     "data": {
      "text/plain": [
       "0"
      ]
     },
     "execution_count": 99,
     "metadata": {},
     "output_type": "execute_result"
    }
   ],
   "source": [
    "df.duplicated().sum()"
   ]
  },
  {
   "cell_type": "markdown",
   "metadata": {},
   "source": [
    "### **Reviewing if there's any null values**\n",
    "\n",
    "Con esta sección confirmamos que **no hay ningún dato nulo** en el conjunto de datos que tenemos.\n",
    "\n",
    "---\n",
    "\n",
    "With this section we confirm that **there is no null data** in the dataset we have."
   ]
  },
  {
   "cell_type": "code",
   "execution_count": 100,
   "metadata": {},
   "outputs": [
    {
     "data": {
      "text/plain": [
       "first_name                   0\n",
       "last_name                    0\n",
       "email                        0\n",
       "application_date             0\n",
       "country                      0\n",
       "yoe                          0\n",
       "seniority                    0\n",
       "technology                   0\n",
       "code_challenge_score         0\n",
       "technical_interview_score    0\n",
       "dtype: int64"
      ]
     },
     "execution_count": 100,
     "metadata": {},
     "output_type": "execute_result"
    }
   ],
   "source": [
    "df.isnull().sum()"
   ]
  },
  {
   "cell_type": "markdown",
   "metadata": {},
   "source": [
    "### **Counting the unique values in each column**\n",
    "\n",
    "Teniendo en cuenta que **existen 50.000 registros**, resulta inusual ver que hay varios emails que se repiten en el dataframe. Esto indicaría que posiblemente habría **167 personas que reaplicaron** (calculando a partir de la diferencia entre el total y el conteo de los emails).\n",
    "\n",
    "---\n",
    "\n",
    "Considering that there are 50.000 records, it is unusual to see that there are several repeating emails in the dataframe. This would indicate that there would possibly be **167 people who reapplied** (calculating from the difference between the total and the emails' count)."
   ]
  },
  {
   "cell_type": "code",
   "execution_count": 101,
   "metadata": {},
   "outputs": [
    {
     "data": {
      "text/plain": [
       "first_name                    3007\n",
       "last_name                      474\n",
       "email                        49833\n",
       "application_date              1646\n",
       "country                        244\n",
       "yoe                             31\n",
       "seniority                        7\n",
       "technology                      24\n",
       "code_challenge_score            11\n",
       "technical_interview_score       11\n",
       "dtype: int64"
      ]
     },
     "execution_count": 101,
     "metadata": {},
     "output_type": "execute_result"
    }
   ],
   "source": [
    "df.nunique()"
   ]
  },
  {
   "cell_type": "markdown",
   "metadata": {},
   "source": [
    "#### ***Let's analyze those records***"
   ]
  },
  {
   "cell_type": "markdown",
   "metadata": {},
   "source": [
    "A partir de la longitud de los valores únicos de los Emails obtenemos que existen **165 direcciones de correos repetido**s en nuestro dataset: inclusive existen 2 direcciones que se repiten 3 veces.\n",
    "\n",
    "---\n",
    "\n",
    "From the length of unique values of the Emails we obtain that there are **165 repeated email addresses** in our dataset: there are even 2 addresses that are repeated 3 times."
   ]
  },
  {
   "cell_type": "code",
   "execution_count": 102,
   "metadata": {},
   "outputs": [
    {
     "data": {
      "text/plain": [
       "email\n",
       "fern70@gmail.com                3\n",
       "marianne31@yahoo.com            3\n",
       "matilda17@gmail.com             2\n",
       "candelario19@hotmail.com        2\n",
       "furman49@gmail.com              2\n",
       "                               ..\n",
       "jasper81@gmail.com              2\n",
       "desmond85@yahoo.com             2\n",
       "bertrand65@hotmail.com          2\n",
       "hildegard_prohaska@yahoo.com    2\n",
       "easter75@gmail.com              2\n",
       "Name: count, Length: 165, dtype: int64"
      ]
     },
     "execution_count": 102,
     "metadata": {},
     "output_type": "execute_result"
    }
   ],
   "source": [
    "duplicated_emails = df.loc[df.duplicated(subset=['email'], keep=False)]\n",
    "duplicated_emails[\"email\"].value_counts()"
   ]
  },
  {
   "cell_type": "markdown",
   "metadata": {},
   "source": [
    "### **Numerical analysis of the data**\n",
    "\n",
    "En este analisis observamos que las fechas datan desde el 1 de enero de 2018 hasta el 4 de julio de 2022: tener en cuenta este detalle dado que explica la poca cantidad de datos para 2022.\n",
    "\n",
    "Además, arroja que el promedio de años de experiencia son de 15.29 años, sin embargo, los valores son muy variados como observamos en la desviación estándar, que cuenta con un valor muy alto.\n",
    "\n",
    "Con respecto al puntaje del reto de código y la entrevista técnica, ambas cuentan con promedios de 5, aproximadamente. Estos promedios son demasiado regulares e indican que la cantidad de personas aceptadas será, probablemente, menor que la mitad de los que se encuentran en el listado.\n",
    "\n",
    "---\n",
    "\n",
    "In this analysis we observe that the dates are from January 1, 2018 to July 4, 2022: this detail should be taken into account since it explains the small amount of data for 2022.\n",
    "\n",
    "In addition, it shows that the average years of experience are 15.29 years, however, the values are very varied as we observe in the standard deviation, which has a very high value.\n",
    "\n",
    "With respect to the code challenge score and the technical interview, both have averages of approximately 5. These averages are too regular and indicate that the number of people accepted will probably be less than half of those listed."
   ]
  },
  {
   "cell_type": "code",
   "execution_count": 103,
   "metadata": {},
   "outputs": [
    {
     "data": {
      "text/html": [
       "<div>\n",
       "<style scoped>\n",
       "    .dataframe tbody tr th:only-of-type {\n",
       "        vertical-align: middle;\n",
       "    }\n",
       "\n",
       "    .dataframe tbody tr th {\n",
       "        vertical-align: top;\n",
       "    }\n",
       "\n",
       "    .dataframe thead th {\n",
       "        text-align: right;\n",
       "    }\n",
       "</style>\n",
       "<table border=\"1\" class=\"dataframe\">\n",
       "  <thead>\n",
       "    <tr style=\"text-align: right;\">\n",
       "      <th></th>\n",
       "      <th>application_date</th>\n",
       "      <th>yoe</th>\n",
       "      <th>code_challenge_score</th>\n",
       "      <th>technical_interview_score</th>\n",
       "    </tr>\n",
       "  </thead>\n",
       "  <tbody>\n",
       "    <tr>\n",
       "      <th>count</th>\n",
       "      <td>50000</td>\n",
       "      <td>50000.000000</td>\n",
       "      <td>50000.000000</td>\n",
       "      <td>50000.000000</td>\n",
       "    </tr>\n",
       "    <tr>\n",
       "      <th>mean</th>\n",
       "      <td>2020-04-03 23:04:14.592000</td>\n",
       "      <td>15.286980</td>\n",
       "      <td>4.996400</td>\n",
       "      <td>5.003880</td>\n",
       "    </tr>\n",
       "    <tr>\n",
       "      <th>min</th>\n",
       "      <td>2018-01-01 00:00:00</td>\n",
       "      <td>0.000000</td>\n",
       "      <td>0.000000</td>\n",
       "      <td>0.000000</td>\n",
       "    </tr>\n",
       "    <tr>\n",
       "      <th>25%</th>\n",
       "      <td>2019-02-17 00:00:00</td>\n",
       "      <td>8.000000</td>\n",
       "      <td>2.000000</td>\n",
       "      <td>2.000000</td>\n",
       "    </tr>\n",
       "    <tr>\n",
       "      <th>50%</th>\n",
       "      <td>2020-04-06 00:00:00</td>\n",
       "      <td>15.000000</td>\n",
       "      <td>5.000000</td>\n",
       "      <td>5.000000</td>\n",
       "    </tr>\n",
       "    <tr>\n",
       "      <th>75%</th>\n",
       "      <td>2021-05-21 00:00:00</td>\n",
       "      <td>23.000000</td>\n",
       "      <td>8.000000</td>\n",
       "      <td>8.000000</td>\n",
       "    </tr>\n",
       "    <tr>\n",
       "      <th>max</th>\n",
       "      <td>2022-07-04 00:00:00</td>\n",
       "      <td>30.000000</td>\n",
       "      <td>10.000000</td>\n",
       "      <td>10.000000</td>\n",
       "    </tr>\n",
       "    <tr>\n",
       "      <th>std</th>\n",
       "      <td>NaN</td>\n",
       "      <td>8.830652</td>\n",
       "      <td>3.166896</td>\n",
       "      <td>3.165082</td>\n",
       "    </tr>\n",
       "  </tbody>\n",
       "</table>\n",
       "</div>"
      ],
      "text/plain": [
       "                 application_date           yoe  code_challenge_score  \\\n",
       "count                       50000  50000.000000          50000.000000   \n",
       "mean   2020-04-03 23:04:14.592000     15.286980              4.996400   \n",
       "min           2018-01-01 00:00:00      0.000000              0.000000   \n",
       "25%           2019-02-17 00:00:00      8.000000              2.000000   \n",
       "50%           2020-04-06 00:00:00     15.000000              5.000000   \n",
       "75%           2021-05-21 00:00:00     23.000000              8.000000   \n",
       "max           2022-07-04 00:00:00     30.000000             10.000000   \n",
       "std                           NaN      8.830652              3.166896   \n",
       "\n",
       "       technical_interview_score  \n",
       "count               50000.000000  \n",
       "mean                    5.003880  \n",
       "min                     0.000000  \n",
       "25%                     2.000000  \n",
       "50%                     5.000000  \n",
       "75%                     8.000000  \n",
       "max                    10.000000  \n",
       "std                     3.165082  "
      ]
     },
     "execution_count": 103,
     "metadata": {},
     "output_type": "execute_result"
    }
   ],
   "source": [
    "df.describe()"
   ]
  },
  {
   "cell_type": "markdown",
   "metadata": {},
   "source": [
    "### **Analyzing Code Challenge and Technical Interview Scores**"
   ]
  },
  {
   "cell_type": "markdown",
   "metadata": {},
   "source": [
    "Existe una **distribución bastante dispersa** de los datos en ambos puntajes, lo que lleva a que la frecuencia de los puntajes se bastante similar entre sí.\n",
    "\n",
    "---\n",
    "\n",
    "There is a **fairly dispersed distribution** of the data in both scores, which leads to the frequency of the scores being fairly similar to each other."
   ]
  },
  {
   "cell_type": "code",
   "execution_count": 104,
   "metadata": {},
   "outputs": [
    {
     "data": {
      "text/html": [
       "<div>\n",
       "<style scoped>\n",
       "    .dataframe tbody tr th:only-of-type {\n",
       "        vertical-align: middle;\n",
       "    }\n",
       "\n",
       "    .dataframe tbody tr th {\n",
       "        vertical-align: top;\n",
       "    }\n",
       "\n",
       "    .dataframe thead th {\n",
       "        text-align: right;\n",
       "    }\n",
       "</style>\n",
       "<table border=\"1\" class=\"dataframe\">\n",
       "  <thead>\n",
       "    <tr style=\"text-align: right;\">\n",
       "      <th></th>\n",
       "      <th>code_challenge_score</th>\n",
       "      <th>technical_interview_score</th>\n",
       "    </tr>\n",
       "    <tr>\n",
       "      <th>score</th>\n",
       "      <th></th>\n",
       "      <th></th>\n",
       "    </tr>\n",
       "  </thead>\n",
       "  <tbody>\n",
       "    <tr>\n",
       "      <th>0</th>\n",
       "      <td>4502</td>\n",
       "      <td>4539</td>\n",
       "    </tr>\n",
       "    <tr>\n",
       "      <th>1</th>\n",
       "      <td>4590</td>\n",
       "      <td>4588</td>\n",
       "    </tr>\n",
       "    <tr>\n",
       "      <th>2</th>\n",
       "      <td>4579</td>\n",
       "      <td>4500</td>\n",
       "    </tr>\n",
       "    <tr>\n",
       "      <th>3</th>\n",
       "      <td>4678</td>\n",
       "      <td>4528</td>\n",
       "    </tr>\n",
       "    <tr>\n",
       "      <th>4</th>\n",
       "      <td>4521</td>\n",
       "      <td>4578</td>\n",
       "    </tr>\n",
       "    <tr>\n",
       "      <th>5</th>\n",
       "      <td>4479</td>\n",
       "      <td>4527</td>\n",
       "    </tr>\n",
       "    <tr>\n",
       "      <th>6</th>\n",
       "      <td>4419</td>\n",
       "      <td>4471</td>\n",
       "    </tr>\n",
       "    <tr>\n",
       "      <th>7</th>\n",
       "      <td>4506</td>\n",
       "      <td>4578</td>\n",
       "    </tr>\n",
       "    <tr>\n",
       "      <th>8</th>\n",
       "      <td>4619</td>\n",
       "      <td>4555</td>\n",
       "    </tr>\n",
       "    <tr>\n",
       "      <th>9</th>\n",
       "      <td>4519</td>\n",
       "      <td>4597</td>\n",
       "    </tr>\n",
       "    <tr>\n",
       "      <th>10</th>\n",
       "      <td>4588</td>\n",
       "      <td>4539</td>\n",
       "    </tr>\n",
       "  </tbody>\n",
       "</table>\n",
       "</div>"
      ],
      "text/plain": [
       "       code_challenge_score  technical_interview_score\n",
       "score                                                 \n",
       "0                      4502                       4539\n",
       "1                      4590                       4588\n",
       "2                      4579                       4500\n",
       "3                      4678                       4528\n",
       "4                      4521                       4578\n",
       "5                      4479                       4527\n",
       "6                      4419                       4471\n",
       "7                      4506                       4578\n",
       "8                      4619                       4555\n",
       "9                      4519                       4597\n",
       "10                     4588                       4539"
      ]
     },
     "execution_count": 104,
     "metadata": {},
     "output_type": "execute_result"
    }
   ],
   "source": [
    "score_counts = (df[['code_challenge_score', 'technical_interview_score']].agg(pd.Series.value_counts, normalize=False)\n",
    "                .sort_index()\n",
    "                .rename_axis('score'))\n",
    "score_counts"
   ]
  },
  {
   "cell_type": "code",
   "execution_count": 105,
   "metadata": {},
   "outputs": [
    {
     "data": {
      "image/png": "[encoded data removed]",
      "text/plain": [
       "<Figure size 1000x500 with 1 Axes>"
      ]
     },
     "metadata": {},
     "output_type": "display_data"
    }
   ],
   "source": [
    "code_score = (df['code_challenge_score']\n",
    "                       .value_counts()\n",
    "                       .sort_index())\n",
    "\n",
    "code_score.plot(kind='bar', figsize=(10, 5), title=\"Code Challenge Score's Count\", color='seagreen')\n",
    "plt.xlabel('Code Challenge Score')\n",
    "plt.ylabel('Count')\n",
    "plt.show()"
   ]
  },
  {
   "cell_type": "code",
   "execution_count": 106,
   "metadata": {},
   "outputs": [
    {
     "data": {
      "image/png": "[encoded data removed]",
      "text/plain": [
       "<Figure size 1000x500 with 1 Axes>"
      ]
     },
     "metadata": {},
     "output_type": "display_data"
    }
   ],
   "source": [
    "technical_interview_score = (df['technical_interview_score']\n",
    "                            .value_counts()\n",
    "                            .sort_index())\n",
    "\n",
    "technical_interview_score.plot(kind='bar', figsize=(10, 5), title=\"Technical Interview Score's Count\", color=\"navy\")\n",
    "plt.xlabel('Technical Interview Score')\n",
    "plt.ylabel('Count')\n",
    "plt.show()"
   ]
  },
  {
   "cell_type": "markdown",
   "metadata": {},
   "source": [
    "### **Analyzing aspects of the date of application**"
   ]
  },
  {
   "cell_type": "markdown",
   "metadata": {},
   "source": [
    "Vamos a extraer **el año y el mes** del campo de la fecha de aplicación. Con estos datos, analizaremos la **frecuencia de inscritos por año** y la **disponibilidad de los datos** en estos periodos de tiempo.\n",
    "\n",
    "---\n",
    "\n",
    "We will extract **the year and month** from the application date field. With these data, we will analyze the **frequency of enrollees per year** and the **availability of the data** in these time periods."
   ]
  },
  {
   "cell_type": "code",
   "execution_count": 107,
   "metadata": {},
   "outputs": [],
   "source": [
    "df['year'] = df['application_date'].dt.year\n",
    "df['month'] = df['application_date'].dt.month_name()"
   ]
  },
  {
   "cell_type": "markdown",
   "metadata": {},
   "source": [
    "De 2018 a 2021 hay una **tendencia constante y persistente** de datos, sin embargo, resulta necesario explorar a profundidad los valores de año 2022 dada **su baja frecuencia** en comparación a los otros años.\n",
    "\n",
    "---\n",
    "\n",
    "From 2018 to 2021 there is a **steady and persistent** trend of data, however, it is necessary to explore in depth the values of year 2022 given **its low frequency** compared to the other years."
   ]
  },
  {
   "cell_type": "code",
   "execution_count": 108,
   "metadata": {},
   "outputs": [
    {
     "data": {
      "text/plain": [
       "year\n",
       "2018    11061\n",
       "2019    11009\n",
       "2020    11237\n",
       "2021    11051\n",
       "2022     5642\n",
       "Name: count, dtype: int64"
      ]
     },
     "execution_count": 108,
     "metadata": {},
     "output_type": "execute_result"
    }
   ],
   "source": [
    "year_counts = (df['year'].value_counts()\n",
    "               .sort_index())\n",
    "year_counts"
   ]
  },
  {
   "cell_type": "markdown",
   "metadata": {},
   "source": [
    "La siguiente Serie nos devuelve la **frecuencia de candidatos inscritos** *por cada mes* en 2022. Si bien existe una tendencia estable de inscritos desde Enero hasta Junio, **en Julio existe una caída significativa**. Desde Agosto en adelante los datos sobre los candidatos **no existen**, razón que soporta el hecho de que en 2022 la cantidad de candidatos **sea tan baja**.\n",
    "\n",
    "---\n",
    "\n",
    "The following Series returns the **frequency of candidates enrolled** *for each month* in 2022. While there is a stable trend of registrants from January through June, **in July there is a significant drop**. From August onwards the data on candidates **does not exist**, a reason that supports the fact that in 2022 the number of candidates **is so low**.\n"
   ]
  },
  {
   "cell_type": "code",
   "execution_count": 109,
   "metadata": {},
   "outputs": [
    {
     "data": {
      "text/plain": [
       "month\n",
       "January      912.0\n",
       "February     844.0\n",
       "March        962.0\n",
       "April        923.0\n",
       "May          979.0\n",
       "June         910.0\n",
       "July         112.0\n",
       "August         NaN\n",
       "September      NaN\n",
       "October        NaN\n",
       "November       NaN\n",
       "December       NaN\n",
       "dtype: float64"
      ]
     },
     "execution_count": 109,
     "metadata": {},
     "output_type": "execute_result"
    }
   ],
   "source": [
    "month_order = [\"January\", \"February\", \"March\", \"April\", \"May\", \"June\", \n",
    "               \"July\", \"August\", \"September\", \"October\", \"November\", \"December\"]\n",
    "\n",
    "monthly_counts = (df.query(\"year == 2022\")\n",
    "                  .groupby(\"month\")\n",
    "                  .size()\n",
    "                  .reindex(month_order))\n",
    "\n",
    "monthly_counts"
   ]
  },
  {
   "cell_type": "markdown",
   "metadata": {},
   "source": [
    "## ***Filtering the dataframe: Code Challenge & Tech Interview Score***\n",
    "---"
   ]
  },
  {
   "cell_type": "markdown",
   "metadata": {},
   "source": [
    "El siguiente bloque de código realiza un filtrado en el dataframe `df` para seleccionar únicamente aquellos registros que cumplan con la condición de tener un puntaje igual o mayor a 7 tanto en el campo `code_challenge_score` como en el campo `technical_interview_score`. El resultado de este filtrado se guarda en un nuevo dataframe llamado `df_hired`. Este nuevo dataframe contiene únicamente los registros de los candidatos contratados que cumplen con los criterios de puntaje establecidos.\n",
    "\n",
    "---\n",
    "\n",
    "The following code block filters the `df` dataframe to select only those records that meet the condition of having a score equal to or greater than 7 in both the `code_challenge_score` field and the `technical_interview_score` field. The result of this filtering is saved in a new dataframe called `df_hired`. This new dataframe contains only the records of the hired candidates that meet the score criteria."
   ]
  },
  {
   "cell_type": "code",
   "execution_count": 110,
   "metadata": {},
   "outputs": [
    {
     "data": {
      "text/html": [
       "<div>\n",
       "<style scoped>\n",
       "    .dataframe tbody tr th:only-of-type {\n",
       "        vertical-align: middle;\n",
       "    }\n",
       "\n",
       "    .dataframe tbody tr th {\n",
       "        vertical-align: top;\n",
       "    }\n",
       "\n",
       "    .dataframe thead th {\n",
       "        text-align: right;\n",
       "    }\n",
       "</style>\n",
       "<table border=\"1\" class=\"dataframe\">\n",
       "  <thead>\n",
       "    <tr style=\"text-align: right;\">\n",
       "      <th></th>\n",
       "      <th>first_name</th>\n",
       "      <th>last_name</th>\n",
       "      <th>email</th>\n",
       "      <th>application_date</th>\n",
       "      <th>country</th>\n",
       "      <th>yoe</th>\n",
       "      <th>seniority</th>\n",
       "      <th>technology</th>\n",
       "      <th>code_challenge_score</th>\n",
       "      <th>technical_interview_score</th>\n",
       "      <th>year</th>\n",
       "      <th>month</th>\n",
       "    </tr>\n",
       "  </thead>\n",
       "  <tbody>\n",
       "    <tr>\n",
       "      <th>2</th>\n",
       "      <td>Larue</td>\n",
       "      <td>Spinka</td>\n",
       "      <td>okey_schultz41@gmail.com</td>\n",
       "      <td>2020-04-14</td>\n",
       "      <td>Belarus</td>\n",
       "      <td>4</td>\n",
       "      <td>Mid-Level</td>\n",
       "      <td>Client Success</td>\n",
       "      <td>10</td>\n",
       "      <td>9</td>\n",
       "      <td>2020</td>\n",
       "      <td>April</td>\n",
       "    </tr>\n",
       "    <tr>\n",
       "      <th>22</th>\n",
       "      <td>Crawford</td>\n",
       "      <td>Ullrich</td>\n",
       "      <td>bruce.koch7@yahoo.com</td>\n",
       "      <td>2021-01-09</td>\n",
       "      <td>Dominica</td>\n",
       "      <td>14</td>\n",
       "      <td>Junior</td>\n",
       "      <td>Game Development</td>\n",
       "      <td>8</td>\n",
       "      <td>8</td>\n",
       "      <td>2021</td>\n",
       "      <td>January</td>\n",
       "    </tr>\n",
       "    <tr>\n",
       "      <th>26</th>\n",
       "      <td>Dorian</td>\n",
       "      <td>Zboncak</td>\n",
       "      <td>kyleigh55@yahoo.com</td>\n",
       "      <td>2020-01-26</td>\n",
       "      <td>Japan</td>\n",
       "      <td>5</td>\n",
       "      <td>Lead</td>\n",
       "      <td>Design</td>\n",
       "      <td>8</td>\n",
       "      <td>10</td>\n",
       "      <td>2020</td>\n",
       "      <td>January</td>\n",
       "    </tr>\n",
       "    <tr>\n",
       "      <th>34</th>\n",
       "      <td>Tierra</td>\n",
       "      <td>Romaguera</td>\n",
       "      <td>pete.reichel@yahoo.com</td>\n",
       "      <td>2018-08-21</td>\n",
       "      <td>Panama</td>\n",
       "      <td>9</td>\n",
       "      <td>Senior</td>\n",
       "      <td>Adobe Experience Manager</td>\n",
       "      <td>8</td>\n",
       "      <td>8</td>\n",
       "      <td>2018</td>\n",
       "      <td>August</td>\n",
       "    </tr>\n",
       "    <tr>\n",
       "      <th>53</th>\n",
       "      <td>Brian</td>\n",
       "      <td>Wehner</td>\n",
       "      <td>richie.schaefer@gmail.com</td>\n",
       "      <td>2022-02-27</td>\n",
       "      <td>Puerto Rico</td>\n",
       "      <td>18</td>\n",
       "      <td>Senior</td>\n",
       "      <td>Security</td>\n",
       "      <td>10</td>\n",
       "      <td>10</td>\n",
       "      <td>2022</td>\n",
       "      <td>February</td>\n",
       "    </tr>\n",
       "    <tr>\n",
       "      <th>...</th>\n",
       "      <td>...</td>\n",
       "      <td>...</td>\n",
       "      <td>...</td>\n",
       "      <td>...</td>\n",
       "      <td>...</td>\n",
       "      <td>...</td>\n",
       "      <td>...</td>\n",
       "      <td>...</td>\n",
       "      <td>...</td>\n",
       "      <td>...</td>\n",
       "      <td>...</td>\n",
       "      <td>...</td>\n",
       "    </tr>\n",
       "    <tr>\n",
       "      <th>49932</th>\n",
       "      <td>Alyce</td>\n",
       "      <td>Wehner</td>\n",
       "      <td>alberta_marvin@yahoo.com</td>\n",
       "      <td>2022-04-22</td>\n",
       "      <td>Algeria</td>\n",
       "      <td>4</td>\n",
       "      <td>Lead</td>\n",
       "      <td>Development - CMS Backend</td>\n",
       "      <td>9</td>\n",
       "      <td>10</td>\n",
       "      <td>2022</td>\n",
       "      <td>April</td>\n",
       "    </tr>\n",
       "    <tr>\n",
       "      <th>49935</th>\n",
       "      <td>Walton</td>\n",
       "      <td>Kohler</td>\n",
       "      <td>mitchell85@gmail.com</td>\n",
       "      <td>2018-12-15</td>\n",
       "      <td>Uruguay</td>\n",
       "      <td>17</td>\n",
       "      <td>Mid-Level</td>\n",
       "      <td>Database Administration</td>\n",
       "      <td>8</td>\n",
       "      <td>8</td>\n",
       "      <td>2018</td>\n",
       "      <td>December</td>\n",
       "    </tr>\n",
       "    <tr>\n",
       "      <th>49978</th>\n",
       "      <td>Danyka</td>\n",
       "      <td>West</td>\n",
       "      <td>susana.ratke@yahoo.com</td>\n",
       "      <td>2021-01-07</td>\n",
       "      <td>Ethiopia</td>\n",
       "      <td>25</td>\n",
       "      <td>Intern</td>\n",
       "      <td>Game Development</td>\n",
       "      <td>9</td>\n",
       "      <td>10</td>\n",
       "      <td>2021</td>\n",
       "      <td>January</td>\n",
       "    </tr>\n",
       "    <tr>\n",
       "      <th>49989</th>\n",
       "      <td>Bryana</td>\n",
       "      <td>Pagac</td>\n",
       "      <td>dante8@yahoo.com</td>\n",
       "      <td>2018-01-16</td>\n",
       "      <td>Nigeria</td>\n",
       "      <td>18</td>\n",
       "      <td>Intern</td>\n",
       "      <td>QA Manual</td>\n",
       "      <td>8</td>\n",
       "      <td>10</td>\n",
       "      <td>2018</td>\n",
       "      <td>January</td>\n",
       "    </tr>\n",
       "    <tr>\n",
       "      <th>49990</th>\n",
       "      <td>Abigale</td>\n",
       "      <td>Weimann</td>\n",
       "      <td>will36@yahoo.com</td>\n",
       "      <td>2018-06-16</td>\n",
       "      <td>Belgium</td>\n",
       "      <td>16</td>\n",
       "      <td>Mid-Level</td>\n",
       "      <td>Development - Frontend</td>\n",
       "      <td>9</td>\n",
       "      <td>9</td>\n",
       "      <td>2018</td>\n",
       "      <td>June</td>\n",
       "    </tr>\n",
       "  </tbody>\n",
       "</table>\n",
       "<p>4124 rows × 12 columns</p>\n",
       "</div>"
      ],
      "text/plain": [
       "      first_name  last_name                      email application_date  \\\n",
       "2          Larue     Spinka   okey_schultz41@gmail.com       2020-04-14   \n",
       "22      Crawford    Ullrich      bruce.koch7@yahoo.com       2021-01-09   \n",
       "26        Dorian    Zboncak        kyleigh55@yahoo.com       2020-01-26   \n",
       "34        Tierra  Romaguera     pete.reichel@yahoo.com       2018-08-21   \n",
       "53         Brian     Wehner  richie.schaefer@gmail.com       2022-02-27   \n",
       "...          ...        ...                        ...              ...   \n",
       "49932      Alyce     Wehner   alberta_marvin@yahoo.com       2022-04-22   \n",
       "49935     Walton     Kohler       mitchell85@gmail.com       2018-12-15   \n",
       "49978     Danyka       West     susana.ratke@yahoo.com       2021-01-07   \n",
       "49989     Bryana      Pagac           dante8@yahoo.com       2018-01-16   \n",
       "49990    Abigale    Weimann           will36@yahoo.com       2018-06-16   \n",
       "\n",
       "           country  yoe  seniority                 technology  \\\n",
       "2          Belarus    4  Mid-Level             Client Success   \n",
       "22        Dominica   14     Junior           Game Development   \n",
       "26           Japan    5       Lead                     Design   \n",
       "34          Panama    9     Senior   Adobe Experience Manager   \n",
       "53     Puerto Rico   18     Senior                   Security   \n",
       "...            ...  ...        ...                        ...   \n",
       "49932      Algeria    4       Lead  Development - CMS Backend   \n",
       "49935      Uruguay   17  Mid-Level    Database Administration   \n",
       "49978     Ethiopia   25     Intern           Game Development   \n",
       "49989      Nigeria   18     Intern                  QA Manual   \n",
       "49990      Belgium   16  Mid-Level     Development - Frontend   \n",
       "\n",
       "       code_challenge_score  technical_interview_score  year     month  \n",
       "2                        10                          9  2020     April  \n",
       "22                        8                          8  2021   January  \n",
       "26                        8                         10  2020   January  \n",
       "34                        8                          8  2018    August  \n",
       "53                       10                         10  2022  February  \n",
       "...                     ...                        ...   ...       ...  \n",
       "49932                     9                         10  2022     April  \n",
       "49935                     8                          8  2018  December  \n",
       "49978                     9                         10  2021   January  \n",
       "49989                     8                         10  2018   January  \n",
       "49990                     9                          9  2018      June  \n",
       "\n",
       "[4124 rows x 12 columns]"
      ]
     },
     "execution_count": 110,
     "metadata": {},
     "output_type": "execute_result"
    }
   ],
   "source": [
    "df_hired = df.query(\"(code_challenge_score & technical_interview_score) >= 7\").copy()\n",
    "df_hired"
   ]
  },
  {
   "cell_type": "markdown",
   "metadata": {},
   "source": [
    "### **Analyzing the technologies used by the hired candidates**"
   ]
  },
  {
   "cell_type": "markdown",
   "metadata": {},
   "source": [
    "Observamos que las dos tecnologías con mayor cantidad de candidatos contratados fue **DevOps** y **Game Development**: su notoriedad es considerable dada la **diferencia en cantidad** con respecto al resto de tecnologias.\n",
    "\n",
    "---\n",
    "\n",
    "We observed that the two technologies with the highest number of candidates hired were **DevOps** and **Game Development**: their notoriety is considerable given the **difference in quantity** with respect to the rest of the technologies.\n"
   ]
  },
  {
   "cell_type": "code",
   "execution_count": 111,
   "metadata": {},
   "outputs": [
    {
     "data": {
      "text/plain": [
       "technology\n",
       "Game Development                           325\n",
       "DevOps                                     292\n",
       "Adobe Experience Manager                   184\n",
       "System Administration                      177\n",
       "Development - CMS Backend                  175\n",
       "Database Administration                    168\n",
       "Development - FullStack                    167\n",
       "Client Success                             167\n",
       "Mulesoft                                   166\n",
       "Development - Frontend                     164\n",
       "Business Analytics / Project Management    163\n",
       "Salesforce                                 160\n",
       "Security Compliance                        159\n",
       "Development - Backend                      159\n",
       "QA Manual                                  158\n",
       "Development - CMS Frontend                 157\n",
       "Security                                   156\n",
       "Design                                     152\n",
       "Business Intelligence                      151\n",
       "Social Media Community Management          149\n",
       "QA Automation                              149\n",
       "Sales                                      149\n",
       "Data Engineer                              149\n",
       "Technical Writing                          128\n",
       "dtype: int64"
      ]
     },
     "execution_count": 111,
     "metadata": {},
     "output_type": "execute_result"
    }
   ],
   "source": [
    "df_technology_count = (df_hired.groupby('technology')\n",
    "                       .size()\n",
    "                       .sort_values(ascending=False))\n",
    "\n",
    "df_technology_count"
   ]
  },
  {
   "cell_type": "code",
   "execution_count": 112,
   "metadata": {},
   "outputs": [],
   "source": [
    "def color_palette(df):\n",
    "    n_colors = len(df)\n",
    "    return sns.color_palette(\"light:#5A9\", n_colors=n_colors)"
   ]
  },
  {
   "cell_type": "code",
   "execution_count": 113,
   "metadata": {},
   "outputs": [
    {
     "data": {
      "image/png": "[encoded data removed]",
      "text/plain": [
       "<Figure size 640x480 with 1 Axes>"
      ]
     },
     "metadata": {},
     "output_type": "display_data"
    }
   ],
   "source": [
    "df_technology_count = df_technology_count.sort_values()\n",
    "\n",
    "df_technology_count.plot(kind='barh', color=color_palette(df_technology_count))\n",
    "\n",
    "plt.xlabel('Count')\n",
    "plt.ylabel('Technology')\n",
    "plt.title('Hired Candidates by Technology')\n",
    "\n",
    "plt.show()"
   ]
  },
  {
   "cell_type": "markdown",
   "metadata": {},
   "source": [
    "### **Analyzing the countries of the hired candidates**"
   ]
  },
  {
   "cell_type": "markdown",
   "metadata": {},
   "source": [
    "Analizando los 10 países de procedencia con la mayor cantidad de candidatos contratados encontramos una distribución que varía en muy pequeñas cantidades; esto se debe a la gran cantidad de países que se encuentran a analizar, indicando una gran dispersión en los datos existentes.\n",
    "\n",
    "---\n",
    "\n",
    "Analyzing the 10 countries of origin with the highest number of candidates hired, we find a distribution that varies in very small amounts; this is due to the large number of countries to be analyzed, indicating a large dispersion in the existing data."
   ]
  },
  {
   "cell_type": "code",
   "execution_count": 114,
   "metadata": {},
   "outputs": [
    {
     "data": {
      "text/plain": [
       "country\n",
       "Niger                                30\n",
       "Heard Island and McDonald Islands    29\n",
       "Sri Lanka                            28\n",
       "Guatemala                            26\n",
       "Indonesia                            26\n",
       "                                     ..\n",
       "Guam                                  9\n",
       "Armenia                               9\n",
       "Montenegro                            9\n",
       "Gambia                                9\n",
       "American Samoa                        7\n",
       "Length: 244, dtype: int64"
      ]
     },
     "execution_count": 114,
     "metadata": {},
     "output_type": "execute_result"
    }
   ],
   "source": [
    "df_country_count = (df_hired.groupby('country')\n",
    "                       .size()\n",
    "                       .sort_values(ascending=False))\n",
    "\n",
    "df_country_count"
   ]
  },
  {
   "cell_type": "code",
   "execution_count": 115,
   "metadata": {},
   "outputs": [
    {
     "data": {
      "image/png": "[encoded data removed]",
      "text/plain": [
       "<Figure size 640x480 with 1 Axes>"
      ]
     },
     "metadata": {},
     "output_type": "display_data"
    }
   ],
   "source": [
    "df_country_count = df_country_count[0:11].sort_values()\n",
    "\n",
    "df_country_count.plot(kind='barh', color=color_palette(df_country_count))\n",
    "\n",
    "plt.xlabel('Count')\n",
    "plt.ylabel('Country')\n",
    "plt.title('Top 10 Countries by Hired Candidates')\n",
    "\n",
    "plt.show()"
   ]
  },
  {
   "cell_type": "markdown",
   "metadata": {},
   "source": [
    "### **Analyzing the seniority and YOE of the hired candidates**"
   ]
  },
  {
   "cell_type": "markdown",
   "metadata": {},
   "source": [
    "Si bien en Seniority no existe esa dispersión tan amplia que existia en los países, sí se sigue con el patrón de una distribución que varía en pequeñas cantidades con respecto a los valores anteriores. De este caso se pueden destacar que los cargos con mayor cantidad de contratados fueron en la categoría de Intern y Trainee.\n",
    "\n",
    "---\n",
    "\n",
    "Although Seniority doesn't have the wide dispersion that existed in the countries' case, it does follow the pattern of a distribution that varies in small amounts with respect to the previous values. In this case, it is worth noting that the positions with the highest number of hires were in the Intern and Trainee categories."
   ]
  },
  {
   "cell_type": "code",
   "execution_count": 116,
   "metadata": {},
   "outputs": [
    {
     "data": {
      "text/plain": [
       "seniority\n",
       "Intern       615\n",
       "Trainee      603\n",
       "Junior       592\n",
       "Senior       585\n",
       "Architect    582\n",
       "Mid-Level    576\n",
       "Lead         571\n",
       "dtype: int64"
      ]
     },
     "execution_count": 116,
     "metadata": {},
     "output_type": "execute_result"
    }
   ],
   "source": [
    "df_seniority_count = (df_hired.groupby('seniority')\n",
    "                       .size()\n",
    "                       .sort_values(ascending=False))\n",
    "\n",
    "df_seniority_count"
   ]
  },
  {
   "cell_type": "code",
   "execution_count": 117,
   "metadata": {},
   "outputs": [
    {
     "data": {
      "image/png": "[encoded data removed]",
      "text/plain": [
       "<Figure size 640x480 with 1 Axes>"
      ]
     },
     "metadata": {},
     "output_type": "display_data"
    }
   ],
   "source": [
    "df_seniority_count = df_seniority_count.sort_values()\n",
    "\n",
    "df_seniority_count.plot(kind='bar', color=color_palette(df_seniority_count))\n",
    "\n",
    "for i, v in enumerate(df_seniority_count.values):\n",
    "    plt.text(i, v, str(v), ha='center', va='bottom')\n",
    "\n",
    "plt.xlabel('Seniority')\n",
    "plt.ylabel('Count')\n",
    "plt.title('Hired Candidates by Seniority')\n",
    "\n",
    "plt.show()"
   ]
  },
  {
   "cell_type": "markdown",
   "metadata": {},
   "source": [
    "Es claro que para que un candidato tenga un Leader Seniority debe haber tenido amplios años de experiencias (YOE). Esta relación de YOE y Seniority también se puede observar en Intern y Trainee, los cuales deben de tener pocos años de experiencia: vamos a observar si es el caso obteniendo el promedio de YOE para cada Seniority.\n",
    "\n",
    "---\n",
    "\n",
    "It's clear that for a candidate to have a Leader Seniority he/she must have had extensive years of experience (YOE). This relationship of YOE and Seniority can also be observed in Intern and Trainee, which must have few years of experience: let's see if this is the case by obtaining the average YOE for each Seniority."
   ]
  },
  {
   "cell_type": "code",
   "execution_count": 118,
   "metadata": {},
   "outputs": [
    {
     "data": {
      "text/plain": [
       "seniority\n",
       "Intern       15.406892\n",
       "Lead         15.365578\n",
       "Architect    15.345105\n",
       "Junior       15.324930\n",
       "Mid-Level    15.213291\n",
       "Trainee      15.178616\n",
       "Senior       15.174529\n",
       "Name: yoe, dtype: float64"
      ]
     },
     "execution_count": 118,
     "metadata": {},
     "output_type": "execute_result"
    }
   ],
   "source": [
    "seniority_avg_yoe = (df.groupby('seniority')['yoe']\n",
    "                     .mean()\n",
    "                     .sort_values(ascending=False))\n",
    "seniority_avg_yoe"
   ]
  },
  {
   "cell_type": "markdown",
   "metadata": {},
   "source": [
    "Como se observa en los resultados de arriba y en la gráfica de abajo, hay inconsistencias entre la Seniority y los años de experiencia (YOE). Por ejemplo, encontramos el caso de Intern donde el promedio de YOE para sus candidatos es de 15.41 años, ligeramente mayor que Lead, un cargo que requiere un valor alto de YOE y que cuenta con un promedio de 15.37 años. El mismo caso se puede observar con Trainee, que cuenta con un YOE exageradamente alto para lo que el Seniority realmente representa.\n",
    "\n",
    "---\n",
    "\n",
    "As can be seen in the results above and in the graph below, there are inconsistencies between Seniority and years of experience (YOE). For example, we find the case of Intern where the average YOE for its candidates is 15.41 years, slightly higher than Lead, a position that requires a high YOE value and has an average of 15.37 years. The same case can be observed with Trainee, which has an exaggeratedly high YOE for what the role really represents."
   ]
  },
  {
   "cell_type": "code",
   "execution_count": 119,
   "metadata": {},
   "outputs": [
    {
     "data": {
      "image/png": "[encoded data removed]",
      "text/plain": [
       "<Figure size 640x480 with 1 Axes>"
      ]
     },
     "metadata": {},
     "output_type": "display_data"
    }
   ],
   "source": [
    "seniority_avg_yoe = seniority_avg_yoe.sort_values(ascending=True)\n",
    "seniority_avg_yoe.plot(kind='barh', color=color_palette(seniority_avg_yoe))\n",
    "\n",
    "plt.xlabel('Seniority')\n",
    "plt.ylabel('Average Years of Experience')\n",
    "plt.title('Average Years of Experience by Seniority')\n",
    "\n",
    "for i, v in enumerate(seniority_avg_yoe.values):\n",
    "    plt.text(v, i, str(round(v, 2)), ha='left', va='center')\n",
    "\n",
    "plt.show()"
   ]
  },
  {
   "cell_type": "markdown",
   "metadata": {},
   "source": [
    "## **Conclusions and Findings**\n",
    "\n",
    "Dada la aleatoriedad de los datos generados, muchas relaciones entre variables son incongruentes. Sin embargo, son relaciones que, dado un dataset con datos reales, deben ser planteadas con el fin de realizar hallazgos pertinentes al contexto a analizar.\n",
    "\n",
    "\n",
    "* Given the randomness of the data generated, many relationships between variables are incongruent. However, these are relationships that, given a dataset with real data, must be posed in order to make findings relevant to the context to be analyzed.\n",
    "\n",
    "---\n",
    "\n",
    "Las tecnologías en las que se especializan los candidatos pueden ser sintetizadas en una menor cantidad de categorías con el fin de facilitar el análisis a futuro mediante las gráficas del dashboard.\n",
    "\n",
    "* The technologies in which candidates specialize can be synthesized into a smaller number of categories in order to facilitate future analysis through dashboard graphs.\n",
    "\n",
    "---\n",
    "\n",
    "* There are a significant number of candidates who apply more than once.\n",
    "\n",
    "* There is an irregular and inconsistent correlation between years of experience (YOE) and the candidate's role (Seniority).\n"
   ]
  }
 ],
 "metadata": {
  "kernelspec": {
   "display_name": "Python 3",
   "language": "python",
   "name": "python3"
  },
  "language_info": {
   "codemirror_mode": {
    "name": "ipython",
    "version": 3
   },
   "file_extension": ".py",
   "mimetype": "text/x-python",
   "name": "python",
   "nbconvert_exporter": "python",
   "pygments_lexer": "ipython3",
   "version": "3.12.3"
  }
 },
 "nbformat": 4,
 "nbformat_minor": 2
}
