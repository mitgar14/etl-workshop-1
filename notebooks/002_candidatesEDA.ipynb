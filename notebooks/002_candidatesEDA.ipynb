{
 "cells": [
  {
   "cell_type": "markdown",
   "metadata": {},
   "source": [
    "# **Workshop #1 - Notebook 2: Exploratory analysis of the dataset (EDA)**\n",
    "This notebook is focused on performing exploratory data analysis (EDA) on the candidates dataset. EDA is a crucial step in the data analysis process as it helps us understand the structure and characteristics of the data. By analyzing the dataset, we can uncover patterns, relationships, and potential insights that can guide further analysis and decision-making.\n",
    "\n",
    "In this notebook, we will explore the dataset using various statistical and visual techniques. We will examine the distribution of variables and investigate relationships between different variables. Through this analysis, we aim to gain a comprehensive under of the dataset and generate meaningful insights.\n",
    "\n",
    "---"
   ]
  },
  {
   "cell_type": "markdown",
   "metadata": {},
   "source": [
    "## ***Setting the environment***"
   ]
  },
  {
   "cell_type": "code",
   "execution_count": 78,
   "metadata": {},
   "outputs": [
    {
     "name": "stdout",
     "output_type": "stream",
     "text": [
      "c:\\Users\\mitgar14\\OneDrive\\Escritorio - PC\\Ingenieria de Datos e IA - UAO\\Semestre 4\\ETL\\Semana #1 - #6\\Workshop #1\n",
      "\n",
      "        FileNotFoundError - Puede que el directorio no exista o no estés en la ruta especificada.\n",
      "        Si ya te funcionó, no ejecutes este bloque de nuevo, ya que el directorio actual es Workshop #1.\n",
      "        \n",
      "        Confirma que la ruta en donde te ubicas es la correcta con la siguiente dirección:\n",
      "        \n",
      "c:\\Users\\mitgar14\\OneDrive\\Escritorio - PC\\Ingenieria de Datos e IA - UAO\\Semestre 4\\ETL\\Semana #1 - #6\\Workshop #1\n"
     ]
    }
   ],
   "source": [
    "import os \n",
    "print(os.getcwd())\n",
    "\n",
    "try:\n",
    "    os.chdir(\"../../Workshop #1\")\n",
    "except FileNotFoundError:\n",
    "    print(\"\"\"\n",
    "        FileNotFoundError - Puede que el directorio no exista o no estés en la ruta especificada.\n",
    "        Si ya te funcionó, no ejecutes este bloque de nuevo, ya que el directorio actual es Workshop #1.\n",
    "        \n",
    "        Confirma que la ruta en donde te ubicas es la correcta con la siguiente dirección:\n",
    "        \"\"\")\n",
    "\n",
    "print(os.getcwd())"
   ]
  },
  {
   "cell_type": "markdown",
   "metadata": {},
   "source": [
    "## ***Reading the data***"
   ]
  },
  {
   "cell_type": "markdown",
   "metadata": {},
   "source": [
    "### **Importing the dependencies**\n",
    "\n",
    "We will be using Pandas to perform the analysis of the data from the dataframe structure, and Matplotlib and Seaborn for the realization of certain graphs that will help to better explain the insights obtained from the data. "
   ]
  },
  {
   "cell_type": "code",
   "execution_count": 79,
   "metadata": {},
   "outputs": [],
   "source": [
    "import pandas as pd\n",
    "\n",
    "import matplotlib.pyplot as plt\n",
    "import seaborn as sns\n",
    "plt.style.use('ggplot')\n",
    "\n",
    "from functions.db_connection.connection import creating_engine"
   ]
  },
  {
   "cell_type": "markdown",
   "metadata": {},
   "source": [
    "### **Creating the engine**\n",
    "\n",
    "The connection was relegated to a Python script called *connection.py*: from this script we mainly use the creating_engine function, which is in charge of establishing the connection via SQLAlchemy to a PostgreSQL database."
   ]
  },
  {
   "cell_type": "code",
   "execution_count": 80,
   "metadata": {},
   "outputs": [],
   "source": [
    "engine = creating_engine()"
   ]
  },
  {
   "cell_type": "markdown",
   "metadata": {},
   "source": [
    "### **Loading the dataset**\n",
    "\n",
    "We read the dataset from a table that stores our data: this table is located in a PostgreSQL database that is linked to the engine created with SQLAlchemy."
   ]
  },
  {
   "cell_type": "code",
   "execution_count": 81,
   "metadata": {},
   "outputs": [
    {
     "data": {
      "application/vnd.microsoft.datawrangler.viewer.v0+json": {
       "columns": [
        {
         "name": "index",
         "rawType": "int64",
         "type": "integer"
        },
        {
         "name": "First Name",
         "rawType": "object",
         "type": "string"
        },
        {
         "name": "Last Name",
         "rawType": "object",
         "type": "string"
        },
        {
         "name": "Email",
         "rawType": "object",
         "type": "string"
        },
        {
         "name": "Application Date",
         "rawType": "datetime64[ns]",
         "type": "datetime"
        },
        {
         "name": "Country",
         "rawType": "object",
         "type": "string"
        },
        {
         "name": "YOE",
         "rawType": "int64",
         "type": "integer"
        },
        {
         "name": "Seniority",
         "rawType": "object",
         "type": "string"
        },
        {
         "name": "Technology",
         "rawType": "object",
         "type": "string"
        },
        {
         "name": "Code Challenge Score",
         "rawType": "int64",
         "type": "integer"
        },
        {
         "name": "Technical Interview Score",
         "rawType": "int64",
         "type": "integer"
        }
       ],
       "conversionMethod": "pd.DataFrame",
       "ref": "43c2565e-be33-4fa0-bf21-2ef45576223d",
       "rows": [
        [
         "0",
         "Bernadette",
         "Langworth",
         "leonard91@yahoo.com",
         "2021-02-26 00:00:00",
         "Norway",
         "2",
         "Intern",
         "Data Engineer",
         "3",
         "3"
        ],
        [
         "1",
         "Camryn",
         "Reynolds",
         "zelda56@hotmail.com",
         "2021-09-09 00:00:00",
         "Panama",
         "10",
         "Intern",
         "Data Engineer",
         "2",
         "10"
        ],
        [
         "2",
         "Larue",
         "Spinka",
         "okey_schultz41@gmail.com",
         "2020-04-14 00:00:00",
         "Belarus",
         "4",
         "Mid-Level",
         "Client Success",
         "10",
         "9"
        ],
        [
         "3",
         "Arch",
         "Spinka",
         "elvera_kulas@yahoo.com",
         "2020-10-01 00:00:00",
         "Eritrea",
         "25",
         "Trainee",
         "QA Manual",
         "7",
         "1"
        ],
        [
         "4",
         "Larue",
         "Altenwerth",
         "minnie.gislason@gmail.com",
         "2020-05-20 00:00:00",
         "Myanmar",
         "13",
         "Mid-Level",
         "Social Media Community Management",
         "9",
         "7"
        ],
        [
         "5",
         "Alec",
         "Abbott",
         "juanita_hansen@gmail.com",
         "2019-08-17 00:00:00",
         "Zimbabwe",
         "8",
         "Junior",
         "Adobe Experience Manager",
         "2",
         "9"
        ],
        [
         "6",
         "Allison",
         "Jacobs",
         "alba_rolfson27@yahoo.com",
         "2018-05-18 00:00:00",
         "Wallis and Futuna",
         "19",
         "Trainee",
         "Sales",
         "2",
         "9"
        ],
        [
         "7",
         "Nya",
         "Skiles",
         "madisen.zulauf@gmail.com",
         "2021-12-09 00:00:00",
         "Myanmar",
         "1",
         "Lead",
         "Mulesoft",
         "2",
         "5"
        ],
        [
         "8",
         "Mose",
         "Lakin",
         "dale_murazik@hotmail.com",
         "2018-03-13 00:00:00",
         "Italy",
         "18",
         "Lead",
         "Social Media Community Management",
         "7",
         "10"
        ],
        [
         "9",
         "Terrance",
         "Zieme",
         "dustin31@hotmail.com",
         "2022-04-08 00:00:00",
         "Timor-Leste",
         "25",
         "Lead",
         "DevOps",
         "2",
         "0"
        ],
        [
         "10",
         "Aiyana",
         "Goodwin",
         "vallie.damore@yahoo.com",
         "2019-09-22 00:00:00",
         "Armenia",
         "24",
         "Intern",
         "Development - CMS Backend",
         "4",
         "9"
        ],
        [
         "11",
         "Emilia",
         "Waelchi",
         "peter.grady@gmail.com",
         "2020-07-15 00:00:00",
         "French Southern Territories",
         "28",
         "Lead",
         "DevOps",
         "7",
         "4"
        ],
        [
         "12",
         "Terrell",
         "Streich",
         "meta92@yahoo.com",
         "2021-12-27 00:00:00",
         "Chad",
         "3",
         "Mid-Level",
         "Salesforce",
         "5",
         "10"
        ],
        [
         "13",
         "Hilda",
         "Rodriguez",
         "jordan.hyatt@hotmail.com",
         "2020-05-09 00:00:00",
         "El Salvador",
         "16",
         "Junior",
         "System Administration",
         "7",
         "8"
        ],
        [
         "14",
         "Hope",
         "Hansen",
         "clemmie.bruen@hotmail.com",
         "2019-10-12 00:00:00",
         "Mozambique",
         "18",
         "Architect",
         "Security",
         "4",
         "1"
        ],
        [
         "15",
         "Arno",
         "Altenwerth",
         "cheyenne_rau2@gmail.com",
         "2018-10-18 00:00:00",
         "Brunei Darussalam",
         "21",
         "Mid-Level",
         "Game Development",
         "4",
         "6"
        ],
        [
         "16",
         "Betty",
         "Crona",
         "judd.wisozk55@gmail.com",
         "2020-03-25 00:00:00",
         "Morocco",
         "28",
         "Architect",
         "Social Media Community Management",
         "5",
         "5"
        ],
        [
         "17",
         "Clint",
         "Oberbrunner",
         "dwight_jacobson@gmail.com",
         "2021-05-23 00:00:00",
         "Saint Helena",
         "19",
         "Senior",
         "Social Media Community Management",
         "3",
         "5"
        ],
        [
         "18",
         "Donny",
         "Boehm",
         "lucile97@hotmail.com",
         "2018-05-02 00:00:00",
         "Portugal",
         "20",
         "Trainee",
         "Development - CMS Frontend",
         "4",
         "2"
        ],
        [
         "19",
         "Adah",
         "Pouros",
         "derick1@gmail.com",
         "2021-04-13 00:00:00",
         "Mozambique",
         "3",
         "Architect",
         "Adobe Experience Manager",
         "2",
         "3"
        ],
        [
         "20",
         "Winona",
         "Zboncak",
         "doyle78@yahoo.com",
         "2019-03-21 00:00:00",
         "Central African Republic",
         "29",
         "Architect",
         "Game Development",
         "0",
         "2"
        ],
        [
         "21",
         "Eulalia",
         "Wiza",
         "lauriane42@gmail.com",
         "2020-07-12 00:00:00",
         "Seychelles",
         "11",
         "Lead",
         "Security Compliance",
         "4",
         "1"
        ],
        [
         "22",
         "Crawford",
         "Ullrich",
         "bruce.koch7@yahoo.com",
         "2021-01-09 00:00:00",
         "Dominica",
         "14",
         "Junior",
         "Game Development",
         "8",
         "8"
        ],
        [
         "23",
         "Daphney",
         "Price",
         "einar.schmidt@yahoo.com",
         "2021-07-27 00:00:00",
         "Finland",
         "24",
         "Mid-Level",
         "Development - Backend",
         "7",
         "5"
        ],
        [
         "24",
         "Shana",
         "Kuphal",
         "sydnie_hoppe@yahoo.com",
         "2019-11-18 00:00:00",
         "Belgium",
         "3",
         "Architect",
         "DevOps",
         "5",
         "6"
        ],
        [
         "25",
         "Marion",
         "Ullrich",
         "darius.gleason1@hotmail.com",
         "2018-04-25 00:00:00",
         "Niue",
         "6",
         "Lead",
         "Social Media Community Management",
         "8",
         "4"
        ],
        [
         "26",
         "Dorian",
         "Zboncak",
         "kyleigh55@yahoo.com",
         "2020-01-26 00:00:00",
         "Japan",
         "5",
         "Lead",
         "Design",
         "8",
         "10"
        ],
        [
         "27",
         "Earlene",
         "Ullrich",
         "margaret44@hotmail.com",
         "2021-12-04 00:00:00",
         "Palestinian Territory",
         "21",
         "Junior",
         "Security",
         "6",
         "8"
        ],
        [
         "28",
         "Kurt",
         "Stanton",
         "anahi52@gmail.com",
         "2022-01-05 00:00:00",
         "Faroe Islands",
         "0",
         "Trainee",
         "Business Analytics / Project Management",
         "1",
         "4"
        ],
        [
         "29",
         "Anya",
         "Gleichner",
         "korbin_torp@gmail.com",
         "2020-11-28 00:00:00",
         "Latvia",
         "0",
         "Junior",
         "Mulesoft",
         "5",
         "1"
        ],
        [
         "30",
         "Telly",
         "O'Conner",
         "ansel.schultz20@gmail.com",
         "2019-05-25 00:00:00",
         "Saint Helena",
         "25",
         "Mid-Level",
         "Security",
         "5",
         "0"
        ],
        [
         "31",
         "Lucas",
         "Wehner",
         "alda.mosciski@yahoo.com",
         "2018-09-21 00:00:00",
         "Saudi Arabia",
         "13",
         "Senior",
         "Development - Backend",
         "3",
         "7"
        ],
        [
         "32",
         "Oscar",
         "Grady",
         "kayla.kuphal@yahoo.com",
         "2018-03-04 00:00:00",
         "Poland",
         "29",
         "Architect",
         "Mulesoft",
         "3",
         "6"
        ],
        [
         "33",
         "Bernie",
         "Wolf",
         "polly.kshlerin@hotmail.com",
         "2021-08-19 00:00:00",
         "Micronesia",
         "20",
         "Intern",
         "Client Success",
         "10",
         "0"
        ],
        [
         "34",
         "Tierra",
         "Romaguera",
         "pete.reichel@yahoo.com",
         "2018-08-21 00:00:00",
         "Panama",
         "9",
         "Senior",
         "Adobe Experience Manager",
         "8",
         "8"
        ],
        [
         "35",
         "Madyson",
         "Hahn",
         "tamia_braun61@hotmail.com",
         "2020-06-24 00:00:00",
         "Macao",
         "17",
         "Lead",
         "DevOps",
         "4",
         "2"
        ],
        [
         "36",
         "Abdullah",
         "Gutkowski",
         "bailey.kessler@gmail.com",
         "2018-03-13 00:00:00",
         "Bangladesh",
         "9",
         "Senior",
         "Development - Frontend",
         "3",
         "5"
        ],
        [
         "37",
         "Grayce",
         "Boyer",
         "matilda17@gmail.com",
         "2019-01-07 00:00:00",
         "Taiwan",
         "27",
         "Intern",
         "Development - FullStack",
         "8",
         "0"
        ],
        [
         "38",
         "Bell",
         "Bruen",
         "kylee.crona@gmail.com",
         "2022-01-26 00:00:00",
         "Slovakia (Slovak Republic)",
         "9",
         "Intern",
         "Development - CMS Frontend",
         "10",
         "4"
        ],
        [
         "39",
         "Nyasia",
         "Orn",
         "dusty_wehner@hotmail.com",
         "2019-12-16 00:00:00",
         "Mexico",
         "4",
         "Intern",
         "Business Intelligence",
         "2",
         "2"
        ],
        [
         "40",
         "Daryl",
         "Streich",
         "shawna_sauer7@hotmail.com",
         "2022-03-25 00:00:00",
         "Nigeria",
         "8",
         "Lead",
         "Development - FullStack",
         "4",
         "0"
        ],
        [
         "41",
         "Jenifer",
         "Gibson",
         "daphney.schmidt@gmail.com",
         "2018-10-04 00:00:00",
         "Guadeloupe",
         "26",
         "Trainee",
         "Database Administration",
         "3",
         "3"
        ],
        [
         "42",
         "River",
         "Erdman",
         "dewayne50@gmail.com",
         "2019-12-02 00:00:00",
         "Bosnia and Herzegovina",
         "4",
         "Lead",
         "Security Compliance",
         "3",
         "6"
        ],
        [
         "43",
         "Heber",
         "Luettgen",
         "mariela82@yahoo.com",
         "2020-09-10 00:00:00",
         "Guyana",
         "18",
         "Senior",
         "Security",
         "5",
         "0"
        ],
        [
         "44",
         "Alejandra",
         "Bergstrom",
         "taya.stoltenberg@yahoo.com",
         "2021-03-07 00:00:00",
         "Croatia",
         "27",
         "Mid-Level",
         "DevOps",
         "0",
         "0"
        ],
        [
         "45",
         "Sim",
         "Bernhard",
         "mable94@gmail.com",
         "2021-07-05 00:00:00",
         "Svalbard & Jan Mayen Islands",
         "13",
         "Mid-Level",
         "Development - Frontend",
         "6",
         "5"
        ],
        [
         "46",
         "Davonte",
         "Stamm",
         "emerson.grady99@yahoo.com",
         "2021-04-09 00:00:00",
         "Yemen",
         "11",
         "Junior",
         "DevOps",
         "7",
         "8"
        ],
        [
         "47",
         "Nona",
         "Purdy",
         "ryleigh71@hotmail.com",
         "2019-04-26 00:00:00",
         "Nigeria",
         "11",
         "Intern",
         "Game Development",
         "2",
         "8"
        ],
        [
         "48",
         "Jo",
         "Hane",
         "brooke.mann@yahoo.com",
         "2020-12-24 00:00:00",
         "Ukraine",
         "10",
         "Senior",
         "Adobe Experience Manager",
         "6",
         "2"
        ],
        [
         "49",
         "Ashlynn",
         "Kirlin",
         "lewis_kirlin@gmail.com",
         "2021-03-28 00:00:00",
         "Zambia",
         "28",
         "Lead",
         "Business Analytics / Project Management",
         "2",
         "9"
        ]
       ],
       "shape": {
        "columns": 10,
        "rows": 50000
       }
      },
      "text/html": [
       "<div>\n",
       "<style scoped>\n",
       "    .dataframe tbody tr th:only-of-type {\n",
       "        vertical-align: middle;\n",
       "    }\n",
       "\n",
       "    .dataframe tbody tr th {\n",
       "        vertical-align: top;\n",
       "    }\n",
       "\n",
       "    .dataframe thead th {\n",
       "        text-align: right;\n",
       "    }\n",
       "</style>\n",
       "<table border=\"1\" class=\"dataframe\">\n",
       "  <thead>\n",
       "    <tr style=\"text-align: right;\">\n",
       "      <th></th>\n",
       "      <th>First Name</th>\n",
       "      <th>Last Name</th>\n",
       "      <th>Email</th>\n",
       "      <th>Application Date</th>\n",
       "      <th>Country</th>\n",
       "      <th>YOE</th>\n",
       "      <th>Seniority</th>\n",
       "      <th>Technology</th>\n",
       "      <th>Code Challenge Score</th>\n",
       "      <th>Technical Interview Score</th>\n",
       "    </tr>\n",
       "  </thead>\n",
       "  <tbody>\n",
       "    <tr>\n",
       "      <th>0</th>\n",
       "      <td>Bernadette</td>\n",
       "      <td>Langworth</td>\n",
       "      <td>leonard91@yahoo.com</td>\n",
       "      <td>2021-02-26</td>\n",
       "      <td>Norway</td>\n",
       "      <td>2</td>\n",
       "      <td>Intern</td>\n",
       "      <td>Data Engineer</td>\n",
       "      <td>3</td>\n",
       "      <td>3</td>\n",
       "    </tr>\n",
       "    <tr>\n",
       "      <th>1</th>\n",
       "      <td>Camryn</td>\n",
       "      <td>Reynolds</td>\n",
       "      <td>zelda56@hotmail.com</td>\n",
       "      <td>2021-09-09</td>\n",
       "      <td>Panama</td>\n",
       "      <td>10</td>\n",
       "      <td>Intern</td>\n",
       "      <td>Data Engineer</td>\n",
       "      <td>2</td>\n",
       "      <td>10</td>\n",
       "    </tr>\n",
       "    <tr>\n",
       "      <th>2</th>\n",
       "      <td>Larue</td>\n",
       "      <td>Spinka</td>\n",
       "      <td>okey_schultz41@gmail.com</td>\n",
       "      <td>2020-04-14</td>\n",
       "      <td>Belarus</td>\n",
       "      <td>4</td>\n",
       "      <td>Mid-Level</td>\n",
       "      <td>Client Success</td>\n",
       "      <td>10</td>\n",
       "      <td>9</td>\n",
       "    </tr>\n",
       "    <tr>\n",
       "      <th>3</th>\n",
       "      <td>Arch</td>\n",
       "      <td>Spinka</td>\n",
       "      <td>elvera_kulas@yahoo.com</td>\n",
       "      <td>2020-10-01</td>\n",
       "      <td>Eritrea</td>\n",
       "      <td>25</td>\n",
       "      <td>Trainee</td>\n",
       "      <td>QA Manual</td>\n",
       "      <td>7</td>\n",
       "      <td>1</td>\n",
       "    </tr>\n",
       "    <tr>\n",
       "      <th>4</th>\n",
       "      <td>Larue</td>\n",
       "      <td>Altenwerth</td>\n",
       "      <td>minnie.gislason@gmail.com</td>\n",
       "      <td>2020-05-20</td>\n",
       "      <td>Myanmar</td>\n",
       "      <td>13</td>\n",
       "      <td>Mid-Level</td>\n",
       "      <td>Social Media Community Management</td>\n",
       "      <td>9</td>\n",
       "      <td>7</td>\n",
       "    </tr>\n",
       "    <tr>\n",
       "      <th>...</th>\n",
       "      <td>...</td>\n",
       "      <td>...</td>\n",
       "      <td>...</td>\n",
       "      <td>...</td>\n",
       "      <td>...</td>\n",
       "      <td>...</td>\n",
       "      <td>...</td>\n",
       "      <td>...</td>\n",
       "      <td>...</td>\n",
       "      <td>...</td>\n",
       "    </tr>\n",
       "    <tr>\n",
       "      <th>49995</th>\n",
       "      <td>Bethany</td>\n",
       "      <td>Shields</td>\n",
       "      <td>rocky_mitchell@hotmail.com</td>\n",
       "      <td>2022-01-09</td>\n",
       "      <td>Dominican Republic</td>\n",
       "      <td>27</td>\n",
       "      <td>Trainee</td>\n",
       "      <td>Security</td>\n",
       "      <td>2</td>\n",
       "      <td>1</td>\n",
       "    </tr>\n",
       "    <tr>\n",
       "      <th>49996</th>\n",
       "      <td>Era</td>\n",
       "      <td>Swaniawski</td>\n",
       "      <td>dolores.roob@hotmail.com</td>\n",
       "      <td>2020-06-02</td>\n",
       "      <td>Morocco</td>\n",
       "      <td>21</td>\n",
       "      <td>Lead</td>\n",
       "      <td>Game Development</td>\n",
       "      <td>1</td>\n",
       "      <td>2</td>\n",
       "    </tr>\n",
       "    <tr>\n",
       "      <th>49997</th>\n",
       "      <td>Martin</td>\n",
       "      <td>Lakin</td>\n",
       "      <td>savanah.stracke@gmail.com</td>\n",
       "      <td>2018-12-15</td>\n",
       "      <td>Uganda</td>\n",
       "      <td>20</td>\n",
       "      <td>Trainee</td>\n",
       "      <td>System Administration</td>\n",
       "      <td>6</td>\n",
       "      <td>1</td>\n",
       "    </tr>\n",
       "    <tr>\n",
       "      <th>49998</th>\n",
       "      <td>Aliya</td>\n",
       "      <td>Abernathy</td>\n",
       "      <td>vivienne.fritsch@yahoo.com</td>\n",
       "      <td>2020-05-30</td>\n",
       "      <td>Czech Republic</td>\n",
       "      <td>20</td>\n",
       "      <td>Senior</td>\n",
       "      <td>Database Administration</td>\n",
       "      <td>0</td>\n",
       "      <td>0</td>\n",
       "    </tr>\n",
       "    <tr>\n",
       "      <th>49999</th>\n",
       "      <td>Coleman</td>\n",
       "      <td>Wisozk</td>\n",
       "      <td>abigayle.crooks@yahoo.com</td>\n",
       "      <td>2022-06-13</td>\n",
       "      <td>Palau</td>\n",
       "      <td>15</td>\n",
       "      <td>Intern</td>\n",
       "      <td>Mulesoft</td>\n",
       "      <td>3</td>\n",
       "      <td>1</td>\n",
       "    </tr>\n",
       "  </tbody>\n",
       "</table>\n",
       "<p>50000 rows × 10 columns</p>\n",
       "</div>"
      ],
      "text/plain": [
       "       First Name   Last Name                       Email Application Date  \\\n",
       "0      Bernadette   Langworth         leonard91@yahoo.com       2021-02-26   \n",
       "1          Camryn    Reynolds         zelda56@hotmail.com       2021-09-09   \n",
       "2           Larue      Spinka    okey_schultz41@gmail.com       2020-04-14   \n",
       "3            Arch      Spinka      elvera_kulas@yahoo.com       2020-10-01   \n",
       "4           Larue  Altenwerth   minnie.gislason@gmail.com       2020-05-20   \n",
       "...           ...         ...                         ...              ...   \n",
       "49995     Bethany     Shields  rocky_mitchell@hotmail.com       2022-01-09   \n",
       "49996         Era  Swaniawski    dolores.roob@hotmail.com       2020-06-02   \n",
       "49997      Martin       Lakin   savanah.stracke@gmail.com       2018-12-15   \n",
       "49998       Aliya   Abernathy  vivienne.fritsch@yahoo.com       2020-05-30   \n",
       "49999     Coleman      Wisozk   abigayle.crooks@yahoo.com       2022-06-13   \n",
       "\n",
       "                  Country  YOE  Seniority                         Technology  \\\n",
       "0                  Norway    2     Intern                      Data Engineer   \n",
       "1                  Panama   10     Intern                      Data Engineer   \n",
       "2                 Belarus    4  Mid-Level                     Client Success   \n",
       "3                 Eritrea   25    Trainee                          QA Manual   \n",
       "4                 Myanmar   13  Mid-Level  Social Media Community Management   \n",
       "...                   ...  ...        ...                                ...   \n",
       "49995  Dominican Republic   27    Trainee                           Security   \n",
       "49996             Morocco   21       Lead                   Game Development   \n",
       "49997              Uganda   20    Trainee              System Administration   \n",
       "49998      Czech Republic   20     Senior            Database Administration   \n",
       "49999               Palau   15     Intern                           Mulesoft   \n",
       "\n",
       "       Code Challenge Score  Technical Interview Score  \n",
       "0                         3                          3  \n",
       "1                         2                         10  \n",
       "2                        10                          9  \n",
       "3                         7                          1  \n",
       "4                         9                          7  \n",
       "...                     ...                        ...  \n",
       "49995                     2                          1  \n",
       "49996                     1                          2  \n",
       "49997                     6                          1  \n",
       "49998                     0                          0  \n",
       "49999                     3                          1  \n",
       "\n",
       "[50000 rows x 10 columns]"
      ]
     },
     "execution_count": 81,
     "metadata": {},
     "output_type": "execute_result"
    }
   ],
   "source": [
    "df = pd.read_sql_table(\"candidates_raw\", engine, parse_dates=[\"Application Date\"])\n",
    "df"
   ]
  },
  {
   "cell_type": "markdown",
   "metadata": {},
   "source": [
    "## ***Data preparation***"
   ]
  },
  {
   "cell_type": "markdown",
   "metadata": {},
   "source": [
    "Columns are renamed with a ***Snake case*** format in order to facilitate queries using `df.query()`."
   ]
  },
  {
   "cell_type": "code",
   "execution_count": 82,
   "metadata": {},
   "outputs": [],
   "source": [
    "renamed_columns = {\n",
    "    'First Name': 'first_name',\n",
    "    'Last Name': 'last_name',\n",
    "    'Email': 'email',\n",
    "    'Application Date': 'application_date',\n",
    "    'Country': 'country',\n",
    "    'YOE': 'yoe',\n",
    "    'Seniority': 'seniority',\n",
    "    'Technology': 'technology',\n",
    "    'Code Challenge Score': 'code_challenge_score',\n",
    "    'Technical Interview Score': 'technical_interview_score'\n",
    "}\n",
    "\n",
    "df = df.rename(columns=renamed_columns)"
   ]
  },
  {
   "cell_type": "markdown",
   "metadata": {},
   "source": [
    "## ***Data understanding***"
   ]
  },
  {
   "cell_type": "markdown",
   "metadata": {},
   "source": [
    "### **Data columns' info**\n",
    "\n",
    "The previous report gives us multiple conclusions:\n",
    "\n",
    "* The Dtypes of the different columns are appropriate to perform an analysis of the dataset without many complications: **no deep transformation is required** in this aspect.\n",
    "\n",
    "* There are 50,000 entries in the dataframe. Taking this into account when reviewing the count of non-null data we can conclude that **there is no null data**."
   ]
  },
  {
   "cell_type": "code",
   "execution_count": 83,
   "metadata": {},
   "outputs": [
    {
     "name": "stdout",
     "output_type": "stream",
     "text": [
      "<class 'pandas.core.frame.DataFrame'>\n",
      "RangeIndex: 50000 entries, 0 to 49999\n",
      "Data columns (total 10 columns):\n",
      " #   Column                     Non-Null Count  Dtype         \n",
      "---  ------                     --------------  -----         \n",
      " 0   first_name                 50000 non-null  object        \n",
      " 1   last_name                  50000 non-null  object        \n",
      " 2   email                      50000 non-null  object        \n",
      " 3   application_date           50000 non-null  datetime64[ns]\n",
      " 4   country                    50000 non-null  object        \n",
      " 5   yoe                        50000 non-null  int64         \n",
      " 6   seniority                  50000 non-null  object        \n",
      " 7   technology                 50000 non-null  object        \n",
      " 8   code_challenge_score       50000 non-null  int64         \n",
      " 9   technical_interview_score  50000 non-null  int64         \n",
      "dtypes: datetime64[ns](1), int64(3), object(6)\n",
      "memory usage: 3.8+ MB\n"
     ]
    }
   ],
   "source": [
    "df.info()"
   ]
  },
  {
   "cell_type": "markdown",
   "metadata": {},
   "source": [
    "### **Reviewing if there's any duplicate row**\n",
    "\n",
    "**There isn't any duplicated entry** in the dataset."
   ]
  },
  {
   "cell_type": "code",
   "execution_count": 84,
   "metadata": {},
   "outputs": [
    {
     "data": {
      "text/plain": [
       "np.int64(0)"
      ]
     },
     "execution_count": 84,
     "metadata": {},
     "output_type": "execute_result"
    }
   ],
   "source": [
    "df.duplicated().sum()"
   ]
  },
  {
   "cell_type": "markdown",
   "metadata": {},
   "source": [
    "### **Reviewing if there's any null values**\n",
    "\n",
    "With this section we confirm that **there is no null data** in the dataset we have."
   ]
  },
  {
   "cell_type": "code",
   "execution_count": 85,
   "metadata": {},
   "outputs": [
    {
     "data": {
      "text/plain": [
       "first_name                   0\n",
       "last_name                    0\n",
       "email                        0\n",
       "application_date             0\n",
       "country                      0\n",
       "yoe                          0\n",
       "seniority                    0\n",
       "technology                   0\n",
       "code_challenge_score         0\n",
       "technical_interview_score    0\n",
       "dtype: int64"
      ]
     },
     "execution_count": 85,
     "metadata": {},
     "output_type": "execute_result"
    }
   ],
   "source": [
    "df.isnull().sum()"
   ]
  },
  {
   "cell_type": "markdown",
   "metadata": {},
   "source": [
    "### **Counting the unique values in each column**\n",
    "\n",
    "Considering that there are 50.000 records, it is unusual to see that there are several repeating emails in the dataframe. This would indicate that there would possibly be **167 people who reapplied** (calculating from the difference between the total and the emails' count)."
   ]
  },
  {
   "cell_type": "code",
   "execution_count": 86,
   "metadata": {},
   "outputs": [
    {
     "data": {
      "text/plain": [
       "first_name                    3007\n",
       "last_name                      474\n",
       "email                        49833\n",
       "application_date              1646\n",
       "country                        244\n",
       "yoe                             31\n",
       "seniority                        7\n",
       "technology                      24\n",
       "code_challenge_score            11\n",
       "technical_interview_score       11\n",
       "dtype: int64"
      ]
     },
     "execution_count": 86,
     "metadata": {},
     "output_type": "execute_result"
    }
   ],
   "source": [
    "df.nunique()"
   ]
  },
  {
   "cell_type": "markdown",
   "metadata": {},
   "source": [
    "#### ***Let's analyze those records***\n",
    "\n",
    "From the length of unique values of the Emails we obtain that there are **165 repeated email addresses** in our dataset: there are even 2 addresses that are repeated 3 times."
   ]
  },
  {
   "cell_type": "code",
   "execution_count": 87,
   "metadata": {},
   "outputs": [
    {
     "data": {
      "text/plain": [
       "email\n",
       "marianne31@yahoo.com        3\n",
       "fern70@gmail.com            3\n",
       "sandra83@gmail.com          2\n",
       "dewayne50@gmail.com         2\n",
       "matilda17@gmail.com         2\n",
       "                           ..\n",
       "marjolaine91@hotmail.com    2\n",
       "jazmin54@gmail.com          2\n",
       "reyna2@hotmail.com          2\n",
       "kasandra68@hotmail.com      2\n",
       "easter75@gmail.com          2\n",
       "Name: count, Length: 165, dtype: int64"
      ]
     },
     "execution_count": 87,
     "metadata": {},
     "output_type": "execute_result"
    }
   ],
   "source": [
    "duplicated_emails = df.loc[df.duplicated(subset=['email'], keep=False)]\n",
    "duplicated_emails[\"email\"].value_counts()"
   ]
  },
  {
   "cell_type": "markdown",
   "metadata": {},
   "source": [
    "### **Numerical analysis of the data**\n",
    "\n",
    "In this analysis we observe that the range of the dates go from January 1, 2018 to July 4, 2022: this detail should be taken into account since it explains the small amount of data for 2022.\n",
    "\n",
    "In addition, it shows that the average years of experience are 15.29 years, however, the values are very varied as we observe in the standard deviation, which has a very high value.\n",
    "\n",
    "With respect to the code challenge score and the technical interview, both have averages of approximately 5. These averages are too regular and indicate that the number of people accepted will probably be less than half of those listed."
   ]
  },
  {
   "cell_type": "code",
   "execution_count": 88,
   "metadata": {},
   "outputs": [
    {
     "data": {
      "application/vnd.microsoft.datawrangler.viewer.v0+json": {
       "columns": [
        {
         "name": "index",
         "rawType": "object",
         "type": "string"
        },
        {
         "name": "application_date",
         "rawType": "object",
         "type": "unknown"
        },
        {
         "name": "yoe",
         "rawType": "float64",
         "type": "float"
        },
        {
         "name": "code_challenge_score",
         "rawType": "float64",
         "type": "float"
        },
        {
         "name": "technical_interview_score",
         "rawType": "float64",
         "type": "float"
        }
       ],
       "conversionMethod": "pd.DataFrame",
       "ref": "d8812ceb-3b88-48d1-b655-b74eed0c879b",
       "rows": [
        [
         "count",
         "50000",
         "50000.0",
         "50000.0",
         "50000.0"
        ],
        [
         "mean",
         "2020-04-03 23:04:14.592000",
         "15.28698",
         "4.9964",
         "5.00388"
        ],
        [
         "min",
         "2018-01-01 00:00:00",
         "0.0",
         "0.0",
         "0.0"
        ],
        [
         "25%",
         "2019-02-17 00:00:00",
         "8.0",
         "2.0",
         "2.0"
        ],
        [
         "50%",
         "2020-04-06 00:00:00",
         "15.0",
         "5.0",
         "5.0"
        ],
        [
         "75%",
         "2021-05-21 00:00:00",
         "23.0",
         "8.0",
         "8.0"
        ],
        [
         "max",
         "2022-07-04 00:00:00",
         "30.0",
         "10.0",
         "10.0"
        ],
        [
         "std",
         null,
         "8.83065241576418",
         "3.166895581567616",
         "3.1650821949052146"
        ]
       ],
       "shape": {
        "columns": 4,
        "rows": 8
       }
      },
      "text/html": [
       "<div>\n",
       "<style scoped>\n",
       "    .dataframe tbody tr th:only-of-type {\n",
       "        vertical-align: middle;\n",
       "    }\n",
       "\n",
       "    .dataframe tbody tr th {\n",
       "        vertical-align: top;\n",
       "    }\n",
       "\n",
       "    .dataframe thead th {\n",
       "        text-align: right;\n",
       "    }\n",
       "</style>\n",
       "<table border=\"1\" class=\"dataframe\">\n",
       "  <thead>\n",
       "    <tr style=\"text-align: right;\">\n",
       "      <th></th>\n",
       "      <th>application_date</th>\n",
       "      <th>yoe</th>\n",
       "      <th>code_challenge_score</th>\n",
       "      <th>technical_interview_score</th>\n",
       "    </tr>\n",
       "  </thead>\n",
       "  <tbody>\n",
       "    <tr>\n",
       "      <th>count</th>\n",
       "      <td>50000</td>\n",
       "      <td>50000.000000</td>\n",
       "      <td>50000.000000</td>\n",
       "      <td>50000.000000</td>\n",
       "    </tr>\n",
       "    <tr>\n",
       "      <th>mean</th>\n",
       "      <td>2020-04-03 23:04:14.592000</td>\n",
       "      <td>15.286980</td>\n",
       "      <td>4.996400</td>\n",
       "      <td>5.003880</td>\n",
       "    </tr>\n",
       "    <tr>\n",
       "      <th>min</th>\n",
       "      <td>2018-01-01 00:00:00</td>\n",
       "      <td>0.000000</td>\n",
       "      <td>0.000000</td>\n",
       "      <td>0.000000</td>\n",
       "    </tr>\n",
       "    <tr>\n",
       "      <th>25%</th>\n",
       "      <td>2019-02-17 00:00:00</td>\n",
       "      <td>8.000000</td>\n",
       "      <td>2.000000</td>\n",
       "      <td>2.000000</td>\n",
       "    </tr>\n",
       "    <tr>\n",
       "      <th>50%</th>\n",
       "      <td>2020-04-06 00:00:00</td>\n",
       "      <td>15.000000</td>\n",
       "      <td>5.000000</td>\n",
       "      <td>5.000000</td>\n",
       "    </tr>\n",
       "    <tr>\n",
       "      <th>75%</th>\n",
       "      <td>2021-05-21 00:00:00</td>\n",
       "      <td>23.000000</td>\n",
       "      <td>8.000000</td>\n",
       "      <td>8.000000</td>\n",
       "    </tr>\n",
       "    <tr>\n",
       "      <th>max</th>\n",
       "      <td>2022-07-04 00:00:00</td>\n",
       "      <td>30.000000</td>\n",
       "      <td>10.000000</td>\n",
       "      <td>10.000000</td>\n",
       "    </tr>\n",
       "    <tr>\n",
       "      <th>std</th>\n",
       "      <td>NaN</td>\n",
       "      <td>8.830652</td>\n",
       "      <td>3.166896</td>\n",
       "      <td>3.165082</td>\n",
       "    </tr>\n",
       "  </tbody>\n",
       "</table>\n",
       "</div>"
      ],
      "text/plain": [
       "                 application_date           yoe  code_challenge_score  \\\n",
       "count                       50000  50000.000000          50000.000000   \n",
       "mean   2020-04-03 23:04:14.592000     15.286980              4.996400   \n",
       "min           2018-01-01 00:00:00      0.000000              0.000000   \n",
       "25%           2019-02-17 00:00:00      8.000000              2.000000   \n",
       "50%           2020-04-06 00:00:00     15.000000              5.000000   \n",
       "75%           2021-05-21 00:00:00     23.000000              8.000000   \n",
       "max           2022-07-04 00:00:00     30.000000             10.000000   \n",
       "std                           NaN      8.830652              3.166896   \n",
       "\n",
       "       technical_interview_score  \n",
       "count               50000.000000  \n",
       "mean                    5.003880  \n",
       "min                     0.000000  \n",
       "25%                     2.000000  \n",
       "50%                     5.000000  \n",
       "75%                     8.000000  \n",
       "max                    10.000000  \n",
       "std                     3.165082  "
      ]
     },
     "execution_count": 88,
     "metadata": {},
     "output_type": "execute_result"
    }
   ],
   "source": [
    "df.describe()"
   ]
  },
  {
   "cell_type": "markdown",
   "metadata": {},
   "source": [
    "### **Analyzing Code Challenge and Technical Interview Scores**\n",
    "\n",
    "There is a **fairly dispersed distribution** of the data in both scores, which leads to the frequency of the scores being fairly similar to each other."
   ]
  },
  {
   "cell_type": "code",
   "execution_count": 89,
   "metadata": {},
   "outputs": [
    {
     "data": {
      "application/vnd.microsoft.datawrangler.viewer.v0+json": {
       "columns": [
        {
         "name": "score",
         "rawType": "int64",
         "type": "integer"
        },
        {
         "name": "code_challenge_score",
         "rawType": "int64",
         "type": "integer"
        },
        {
         "name": "technical_interview_score",
         "rawType": "int64",
         "type": "integer"
        }
       ],
       "conversionMethod": "pd.DataFrame",
       "ref": "6185a014-05e9-4294-a3f7-cedc4c7b03eb",
       "rows": [
        [
         "0",
         "4502",
         "4539"
        ],
        [
         "1",
         "4590",
         "4588"
        ],
        [
         "2",
         "4579",
         "4500"
        ],
        [
         "3",
         "4678",
         "4528"
        ],
        [
         "4",
         "4521",
         "4578"
        ],
        [
         "5",
         "4479",
         "4527"
        ],
        [
         "6",
         "4419",
         "4471"
        ],
        [
         "7",
         "4506",
         "4578"
        ],
        [
         "8",
         "4619",
         "4555"
        ],
        [
         "9",
         "4519",
         "4597"
        ],
        [
         "10",
         "4588",
         "4539"
        ]
       ],
       "shape": {
        "columns": 2,
        "rows": 11
       }
      },
      "text/html": [
       "<div>\n",
       "<style scoped>\n",
       "    .dataframe tbody tr th:only-of-type {\n",
       "        vertical-align: middle;\n",
       "    }\n",
       "\n",
       "    .dataframe tbody tr th {\n",
       "        vertical-align: top;\n",
       "    }\n",
       "\n",
       "    .dataframe thead th {\n",
       "        text-align: right;\n",
       "    }\n",
       "</style>\n",
       "<table border=\"1\" class=\"dataframe\">\n",
       "  <thead>\n",
       "    <tr style=\"text-align: right;\">\n",
       "      <th></th>\n",
       "      <th>code_challenge_score</th>\n",
       "      <th>technical_interview_score</th>\n",
       "    </tr>\n",
       "    <tr>\n",
       "      <th>score</th>\n",
       "      <th></th>\n",
       "      <th></th>\n",
       "    </tr>\n",
       "  </thead>\n",
       "  <tbody>\n",
       "    <tr>\n",
       "      <th>0</th>\n",
       "      <td>4502</td>\n",
       "      <td>4539</td>\n",
       "    </tr>\n",
       "    <tr>\n",
       "      <th>1</th>\n",
       "      <td>4590</td>\n",
       "      <td>4588</td>\n",
       "    </tr>\n",
       "    <tr>\n",
       "      <th>2</th>\n",
       "      <td>4579</td>\n",
       "      <td>4500</td>\n",
       "    </tr>\n",
       "    <tr>\n",
       "      <th>3</th>\n",
       "      <td>4678</td>\n",
       "      <td>4528</td>\n",
       "    </tr>\n",
       "    <tr>\n",
       "      <th>4</th>\n",
       "      <td>4521</td>\n",
       "      <td>4578</td>\n",
       "    </tr>\n",
       "    <tr>\n",
       "      <th>5</th>\n",
       "      <td>4479</td>\n",
       "      <td>4527</td>\n",
       "    </tr>\n",
       "    <tr>\n",
       "      <th>6</th>\n",
       "      <td>4419</td>\n",
       "      <td>4471</td>\n",
       "    </tr>\n",
       "    <tr>\n",
       "      <th>7</th>\n",
       "      <td>4506</td>\n",
       "      <td>4578</td>\n",
       "    </tr>\n",
       "    <tr>\n",
       "      <th>8</th>\n",
       "      <td>4619</td>\n",
       "      <td>4555</td>\n",
       "    </tr>\n",
       "    <tr>\n",
       "      <th>9</th>\n",
       "      <td>4519</td>\n",
       "      <td>4597</td>\n",
       "    </tr>\n",
       "    <tr>\n",
       "      <th>10</th>\n",
       "      <td>4588</td>\n",
       "      <td>4539</td>\n",
       "    </tr>\n",
       "  </tbody>\n",
       "</table>\n",
       "</div>"
      ],
      "text/plain": [
       "       code_challenge_score  technical_interview_score\n",
       "score                                                 \n",
       "0                      4502                       4539\n",
       "1                      4590                       4588\n",
       "2                      4579                       4500\n",
       "3                      4678                       4528\n",
       "4                      4521                       4578\n",
       "5                      4479                       4527\n",
       "6                      4419                       4471\n",
       "7                      4506                       4578\n",
       "8                      4619                       4555\n",
       "9                      4519                       4597\n",
       "10                     4588                       4539"
      ]
     },
     "execution_count": 89,
     "metadata": {},
     "output_type": "execute_result"
    }
   ],
   "source": [
    "score_counts = (df[['code_challenge_score', 'technical_interview_score']].agg(pd.Series.value_counts)\n",
    "                .sort_index()\n",
    "                .rename_axis('score'))\n",
    "score_counts"
   ]
  },
  {
   "cell_type": "code",
   "execution_count": 90,
   "metadata": {},
   "outputs": [
    {
     "data": {
      "image/png": "[encoded data removed]",
      "text/plain": [
       "<Figure size 1000x500 with 1 Axes>"
      ]
     },
     "metadata": {},
     "output_type": "display_data"
    }
   ],
   "source": [
    "code_score = (df['code_challenge_score']\n",
    "                       .value_counts()\n",
    "                       .sort_index())\n",
    "\n",
    "code_score.plot(kind='bar', figsize=(10, 5), title=\"Code Challenge Score's Count\", color='seagreen')\n",
    "plt.xlabel('Code Challenge Score')\n",
    "plt.ylabel('Count')\n",
    "plt.show()"
   ]
  },
  {
   "cell_type": "code",
   "execution_count": 91,
   "metadata": {},
   "outputs": [
    {
     "data": {
      "image/png": "[encoded data removed]",
      "text/plain": [
       "<Figure size 1000x500 with 1 Axes>"
      ]
     },
     "metadata": {},
     "output_type": "display_data"
    }
   ],
   "source": [
    "technical_interview_score = (df['technical_interview_score']\n",
    "                            .value_counts()\n",
    "                            .sort_index())\n",
    "\n",
    "technical_interview_score.plot(kind='bar', figsize=(10, 5), title=\"Technical Interview Score's Count\", color=\"navy\")\n",
    "plt.xlabel('Technical Interview Score')\n",
    "plt.ylabel('Count')\n",
    "plt.show()"
   ]
  },
  {
   "cell_type": "markdown",
   "metadata": {},
   "source": [
    "### **Analyzing aspects of the date of application**\n",
    "\n",
    "We will extract **the year and month** from the application date field. With these data, we will analyze the **frequency of enrollees per year** and the **availability of the data** in these time periods."
   ]
  },
  {
   "cell_type": "code",
   "execution_count": 92,
   "metadata": {},
   "outputs": [],
   "source": [
    "df['year'] = df['application_date'].dt.year\n",
    "df['month'] = df['application_date'].dt.month_name()"
   ]
  },
  {
   "cell_type": "markdown",
   "metadata": {},
   "source": [
    "From 2018 to 2021 there is a **steady and persistent** trend of data, however, it is necessary to explore in depth the values of year 2022 given **its low frequency** compared to the other years."
   ]
  },
  {
   "cell_type": "code",
   "execution_count": 93,
   "metadata": {},
   "outputs": [
    {
     "data": {
      "text/plain": [
       "year\n",
       "2018    11061\n",
       "2019    11009\n",
       "2020    11237\n",
       "2021    11051\n",
       "2022     5642\n",
       "Name: count, dtype: int64"
      ]
     },
     "execution_count": 93,
     "metadata": {},
     "output_type": "execute_result"
    }
   ],
   "source": [
    "year_counts = (df['year'].value_counts()\n",
    "               .sort_index())\n",
    "year_counts"
   ]
  },
  {
   "cell_type": "markdown",
   "metadata": {},
   "source": [
    "The following Series returns the **frequency of candidates enrolled** *for each month* in 2022. While there is a stable trend of registrants from January through June, **in July there is a significant drop**. From August onwards the data on candidates **does not exist**, a reason that supports the fact that in 2022 the number of candidates **is so low**."
   ]
  },
  {
   "cell_type": "code",
   "execution_count": 94,
   "metadata": {},
   "outputs": [
    {
     "data": {
      "text/plain": [
       "month\n",
       "January      912.0\n",
       "February     844.0\n",
       "March        962.0\n",
       "April        923.0\n",
       "May          979.0\n",
       "June         910.0\n",
       "July         112.0\n",
       "August         NaN\n",
       "September      NaN\n",
       "October        NaN\n",
       "November       NaN\n",
       "December       NaN\n",
       "dtype: float64"
      ]
     },
     "execution_count": 94,
     "metadata": {},
     "output_type": "execute_result"
    }
   ],
   "source": [
    "month_order = [\"January\", \"February\", \"March\", \"April\", \"May\", \"June\", \n",
    "               \"July\", \"August\", \"September\", \"October\", \"November\", \"December\"]\n",
    "\n",
    "monthly_counts = (df.query(\"year == 2022\")\n",
    "                  .groupby(\"month\")\n",
    "                  .size()\n",
    "                  .reindex(month_order))\n",
    "\n",
    "monthly_counts"
   ]
  },
  {
   "cell_type": "markdown",
   "metadata": {},
   "source": [
    "## ***Filtering the dataframe: Code Challenge & Tech Interview Score***\n",
    "---\n",
    "\n",
    "The following code block filters the `df` dataframe to select only those records that meet the condition of having a score equal to or greater than 7 in both the `code_challenge_score` field and the `technical_interview_score` field. The result of this filtering is saved in a new dataframe called `df_hired`. This new dataframe contains only the records of the hired candidates that meet the score criteria."
   ]
  },
  {
   "cell_type": "code",
   "execution_count": 95,
   "metadata": {},
   "outputs": [
    {
     "data": {
      "application/vnd.microsoft.datawrangler.viewer.v0+json": {
       "columns": [
        {
         "name": "index",
         "rawType": "int64",
         "type": "integer"
        },
        {
         "name": "first_name",
         "rawType": "object",
         "type": "string"
        },
        {
         "name": "last_name",
         "rawType": "object",
         "type": "string"
        },
        {
         "name": "email",
         "rawType": "object",
         "type": "string"
        },
        {
         "name": "application_date",
         "rawType": "datetime64[ns]",
         "type": "datetime"
        },
        {
         "name": "country",
         "rawType": "object",
         "type": "string"
        },
        {
         "name": "yoe",
         "rawType": "int64",
         "type": "integer"
        },
        {
         "name": "seniority",
         "rawType": "object",
         "type": "string"
        },
        {
         "name": "technology",
         "rawType": "object",
         "type": "string"
        },
        {
         "name": "code_challenge_score",
         "rawType": "int64",
         "type": "integer"
        },
        {
         "name": "technical_interview_score",
         "rawType": "int64",
         "type": "integer"
        },
        {
         "name": "year",
         "rawType": "int32",
         "type": "integer"
        },
        {
         "name": "month",
         "rawType": "object",
         "type": "string"
        }
       ],
       "conversionMethod": "pd.DataFrame",
       "ref": "bd565d7c-f92d-4ecf-85f7-821cb215648e",
       "rows": [
        [
         "2",
         "Larue",
         "Spinka",
         "okey_schultz41@gmail.com",
         "2020-04-14 00:00:00",
         "Belarus",
         "4",
         "Mid-Level",
         "Client Success",
         "10",
         "9",
         "2020",
         "April"
        ],
        [
         "4",
         "Larue",
         "Altenwerth",
         "minnie.gislason@gmail.com",
         "2020-05-20 00:00:00",
         "Myanmar",
         "13",
         "Mid-Level",
         "Social Media Community Management",
         "9",
         "7",
         "2020",
         "May"
        ],
        [
         "8",
         "Mose",
         "Lakin",
         "dale_murazik@hotmail.com",
         "2018-03-13 00:00:00",
         "Italy",
         "18",
         "Lead",
         "Social Media Community Management",
         "7",
         "10",
         "2018",
         "March"
        ],
        [
         "13",
         "Hilda",
         "Rodriguez",
         "jordan.hyatt@hotmail.com",
         "2020-05-09 00:00:00",
         "El Salvador",
         "16",
         "Junior",
         "System Administration",
         "7",
         "8",
         "2020",
         "May"
        ],
        [
         "22",
         "Crawford",
         "Ullrich",
         "bruce.koch7@yahoo.com",
         "2021-01-09 00:00:00",
         "Dominica",
         "14",
         "Junior",
         "Game Development",
         "8",
         "8",
         "2021",
         "January"
        ],
        [
         "26",
         "Dorian",
         "Zboncak",
         "kyleigh55@yahoo.com",
         "2020-01-26 00:00:00",
         "Japan",
         "5",
         "Lead",
         "Design",
         "8",
         "10",
         "2020",
         "January"
        ],
        [
         "34",
         "Tierra",
         "Romaguera",
         "pete.reichel@yahoo.com",
         "2018-08-21 00:00:00",
         "Panama",
         "9",
         "Senior",
         "Adobe Experience Manager",
         "8",
         "8",
         "2018",
         "August"
        ],
        [
         "46",
         "Davonte",
         "Stamm",
         "emerson.grady99@yahoo.com",
         "2021-04-09 00:00:00",
         "Yemen",
         "11",
         "Junior",
         "DevOps",
         "7",
         "8",
         "2021",
         "April"
        ],
        [
         "50",
         "Delta",
         "Little",
         "marcos_erdman@yahoo.com",
         "2020-09-23 00:00:00",
         "Wallis and Futuna",
         "30",
         "Junior",
         "DevOps",
         "8",
         "7",
         "2020",
         "September"
        ],
        [
         "53",
         "Brian",
         "Wehner",
         "richie.schaefer@gmail.com",
         "2022-02-27 00:00:00",
         "Puerto Rico",
         "18",
         "Senior",
         "Security",
         "10",
         "10",
         "2022",
         "February"
        ],
        [
         "55",
         "Korey",
         "Hansen",
         "norwood67@hotmail.com",
         "2018-10-26 00:00:00",
         "Bulgaria",
         "19",
         "Trainee",
         "Business Analytics / Project Management",
         "10",
         "7",
         "2018",
         "October"
        ],
        [
         "64",
         "Trisha",
         "Larkin",
         "alberta28@yahoo.com",
         "2021-01-24 00:00:00",
         "Republic of Korea",
         "30",
         "Lead",
         "Security Compliance",
         "9",
         "8",
         "2021",
         "January"
        ],
        [
         "88",
         "Macey",
         "Bogan",
         "hilario_purdy@yahoo.com",
         "2022-06-17 00:00:00",
         "Estonia",
         "7",
         "Junior",
         "Business Intelligence",
         "7",
         "9",
         "2022",
         "June"
        ],
        [
         "94",
         "Ethel",
         "Hickle",
         "phyllis_hayes98@yahoo.com",
         "2018-04-27 00:00:00",
         "Nauru",
         "10",
         "Intern",
         "System Administration",
         "7",
         "7",
         "2018",
         "April"
        ],
        [
         "99",
         "Michele",
         "Bernier",
         "madyson.raynor@gmail.com",
         "2021-01-27 00:00:00",
         "Antarctica (the territory South of 60 deg S)",
         "11",
         "Trainee",
         "Security",
         "10",
         "10",
         "2021",
         "January"
        ],
        [
         "102",
         "Amy",
         "Sporer",
         "lera75@yahoo.com",
         "2018-07-18 00:00:00",
         "Cayman Islands",
         "2",
         "Trainee",
         "Security",
         "8",
         "10",
         "2018",
         "July"
        ],
        [
         "106",
         "Stacy",
         "McKenzie",
         "catharine.greenholt@hotmail.com",
         "2022-02-11 00:00:00",
         "Seychelles",
         "3",
         "Architect",
         "Development - CMS Frontend",
         "10",
         "10",
         "2022",
         "February"
        ],
        [
         "111",
         "Winona",
         "Littel",
         "jany_skiles81@gmail.com",
         "2018-12-04 00:00:00",
         "India",
         "5",
         "Architect",
         "Mulesoft",
         "10",
         "9",
         "2018",
         "December"
        ],
        [
         "112",
         "Micheal",
         "Feil",
         "jovany_luettgen44@hotmail.com",
         "2021-11-23 00:00:00",
         "Estonia",
         "1",
         "Intern",
         "Social Media Community Management",
         "10",
         "8",
         "2021",
         "November"
        ],
        [
         "114",
         "Laura",
         "Bergstrom",
         "taylor52@gmail.com",
         "2018-12-19 00:00:00",
         "Austria",
         "25",
         "Lead",
         "Salesforce",
         "7",
         "9",
         "2018",
         "December"
        ],
        [
         "123",
         "Frankie",
         "Walter",
         "heloise11@gmail.com",
         "2020-05-23 00:00:00",
         "United Kingdom",
         "12",
         "Intern",
         "Development - Frontend",
         "9",
         "10",
         "2020",
         "May"
        ],
        [
         "138",
         "Tianna",
         "Yundt",
         "yoshiko_heidenreich@gmail.com",
         "2022-02-27 00:00:00",
         "Bhutan",
         "24",
         "Junior",
         "Technical Writing",
         "8",
         "10",
         "2022",
         "February"
        ],
        [
         "142",
         "Lennie",
         "Kozey",
         "alanis_schamberger@hotmail.com",
         "2022-06-20 00:00:00",
         "Dominica",
         "29",
         "Lead",
         "Technical Writing",
         "9",
         "8",
         "2022",
         "June"
        ],
        [
         "152",
         "Modesta",
         "Krajcik",
         "noah30@yahoo.com",
         "2021-02-13 00:00:00",
         "Togo",
         "30",
         "Mid-Level",
         "Mulesoft",
         "8",
         "9",
         "2021",
         "February"
        ],
        [
         "170",
         "Harry",
         "Crooks",
         "dandre_zboncak48@hotmail.com",
         "2022-03-20 00:00:00",
         "Ghana",
         "11",
         "Intern",
         "Business Intelligence",
         "7",
         "7",
         "2022",
         "March"
        ],
        [
         "171",
         "Sigurd",
         "Mertz",
         "ferne.sporer@gmail.com",
         "2018-01-25 00:00:00",
         "Central African Republic",
         "8",
         "Mid-Level",
         "Data Engineer",
         "7",
         "9",
         "2018",
         "January"
        ],
        [
         "175",
         "Barrett",
         "Stark",
         "richmond_prohaska@yahoo.com",
         "2022-05-17 00:00:00",
         "El Salvador",
         "20",
         "Senior",
         "QA Manual",
         "10",
         "9",
         "2022",
         "May"
        ],
        [
         "182",
         "Hermina",
         "Cruickshank",
         "lazaro79@yahoo.com",
         "2022-06-21 00:00:00",
         "Micronesia",
         "1",
         "Architect",
         "Development - FullStack",
         "8",
         "9",
         "2022",
         "June"
        ],
        [
         "183",
         "Vidal",
         "Bayer",
         "silas66@yahoo.com",
         "2019-04-02 00:00:00",
         "British Indian Ocean Territory (Chagos Archipelago)",
         "18",
         "Junior",
         "System Administration",
         "8",
         "7",
         "2019",
         "April"
        ],
        [
         "185",
         "Warren",
         "Dibbert",
         "salvador.rohan29@hotmail.com",
         "2020-07-15 00:00:00",
         "Burkina Faso",
         "12",
         "Lead",
         "Business Analytics / Project Management",
         "8",
         "9",
         "2020",
         "July"
        ],
        [
         "191",
         "Angelica",
         "Gaylord",
         "keenan_adams@hotmail.com",
         "2019-02-16 00:00:00",
         "Tonga",
         "26",
         "Lead",
         "Salesforce",
         "7",
         "10",
         "2019",
         "February"
        ],
        [
         "197",
         "Vincenza",
         "Witting",
         "gertrude84@hotmail.com",
         "2019-12-30 00:00:00",
         "Saint Martin",
         "11",
         "Architect",
         "Database Administration",
         "10",
         "7",
         "2019",
         "December"
        ],
        [
         "214",
         "Golden",
         "Schuppe",
         "titus11@yahoo.com",
         "2020-01-27 00:00:00",
         "Lao People's Democratic Republic",
         "4",
         "Mid-Level",
         "Security",
         "10",
         "9",
         "2020",
         "January"
        ],
        [
         "216",
         "Helen",
         "Grimes",
         "mckenzie.hansen57@hotmail.com",
         "2020-11-30 00:00:00",
         "Virgin Islands U.S.",
         "30",
         "Lead",
         "QA Automation",
         "8",
         "7",
         "2020",
         "November"
        ],
        [
         "221",
         "Hailee",
         "Christiansen",
         "howell_grimes@hotmail.com",
         "2021-07-30 00:00:00",
         "Turkmenistan",
         "15",
         "Lead",
         "Mulesoft",
         "7",
         "8",
         "2021",
         "July"
        ],
        [
         "230",
         "Leonie",
         "Shanahan",
         "kole.ohara33@gmail.com",
         "2020-04-10 00:00:00",
         "Togo",
         "28",
         "Lead",
         "Mulesoft",
         "8",
         "9",
         "2020",
         "April"
        ],
        [
         "240",
         "Kaitlyn",
         "Conn",
         "eda_cruickshank19@yahoo.com",
         "2021-11-11 00:00:00",
         "Timor-Leste",
         "23",
         "Architect",
         "Development - CMS Frontend",
         "9",
         "7",
         "2021",
         "November"
        ],
        [
         "268",
         "Willow",
         "Skiles",
         "fiona.jast@gmail.com",
         "2019-12-29 00:00:00",
         "Belize",
         "2",
         "Trainee",
         "Game Development",
         "7",
         "9",
         "2019",
         "December"
        ],
        [
         "283",
         "Emerald",
         "Franecki",
         "ramon.grady@gmail.com",
         "2020-08-27 00:00:00",
         "Guatemala",
         "30",
         "Intern",
         "Development - CMS Frontend",
         "9",
         "8",
         "2020",
         "August"
        ],
        [
         "290",
         "Caden",
         "Bartell",
         "dylan88@hotmail.com",
         "2018-03-13 00:00:00",
         "Tanzania",
         "19",
         "Architect",
         "Technical Writing",
         "7",
         "7",
         "2018",
         "March"
        ],
        [
         "300",
         "Katharina",
         "Mann",
         "isaac_hudson@yahoo.com",
         "2020-01-25 00:00:00",
         "Western Sahara",
         "10",
         "Architect",
         "Development - Frontend",
         "9",
         "8",
         "2020",
         "January"
        ],
        [
         "311",
         "Dejon",
         "Gaylord",
         "ernie.hilpert@hotmail.com",
         "2022-04-02 00:00:00",
         "Kenya",
         "29",
         "Architect",
         "Client Success",
         "9",
         "9",
         "2022",
         "April"
        ],
        [
         "312",
         "Cleveland",
         "Breitenberg",
         "maurine.veum@gmail.com",
         "2021-11-01 00:00:00",
         "Montenegro",
         "18",
         "Trainee",
         "QA Automation",
         "9",
         "10",
         "2021",
         "November"
        ],
        [
         "314",
         "Price",
         "Wuckert",
         "sigrid42@yahoo.com",
         "2018-03-28 00:00:00",
         "Bolivia",
         "19",
         "Mid-Level",
         "Business Analytics / Project Management",
         "7",
         "10",
         "2018",
         "March"
        ],
        [
         "317",
         "Eunice",
         "Harris",
         "hilda.sauer58@gmail.com",
         "2020-11-28 00:00:00",
         "Venezuela",
         "25",
         "Lead",
         "Game Development",
         "7",
         "9",
         "2020",
         "November"
        ],
        [
         "327",
         "Bradford",
         "Ledner",
         "jonatan_bernier93@gmail.com",
         "2018-10-02 00:00:00",
         "Syrian Arab Republic",
         "19",
         "Intern",
         "Salesforce",
         "9",
         "10",
         "2018",
         "October"
        ],
        [
         "328",
         "Jakayla",
         "Gerlach",
         "maymie89@hotmail.com",
         "2018-11-21 00:00:00",
         "Honduras",
         "24",
         "Senior",
         "Security Compliance",
         "10",
         "8",
         "2018",
         "November"
        ],
        [
         "334",
         "Trystan",
         "Schuppe",
         "asha.davis77@yahoo.com",
         "2018-05-31 00:00:00",
         "Sri Lanka",
         "28",
         "Senior",
         "Security",
         "7",
         "7",
         "2018",
         "May"
        ],
        [
         "347",
         "Amira",
         "Bauch",
         "webster_keebler31@gmail.com",
         "2021-12-25 00:00:00",
         "Qatar",
         "25",
         "Senior",
         "Game Development",
         "8",
         "10",
         "2021",
         "December"
        ],
        [
         "360",
         "Johnathon",
         "Stokes",
         "gianni_macgyver@yahoo.com",
         "2018-04-11 00:00:00",
         "Brazil",
         "16",
         "Mid-Level",
         "Salesforce",
         "10",
         "8",
         "2018",
         "April"
        ]
       ],
       "shape": {
        "columns": 12,
        "rows": 6698
       }
      },
      "text/html": [
       "<div>\n",
       "<style scoped>\n",
       "    .dataframe tbody tr th:only-of-type {\n",
       "        vertical-align: middle;\n",
       "    }\n",
       "\n",
       "    .dataframe tbody tr th {\n",
       "        vertical-align: top;\n",
       "    }\n",
       "\n",
       "    .dataframe thead th {\n",
       "        text-align: right;\n",
       "    }\n",
       "</style>\n",
       "<table border=\"1\" class=\"dataframe\">\n",
       "  <thead>\n",
       "    <tr style=\"text-align: right;\">\n",
       "      <th></th>\n",
       "      <th>first_name</th>\n",
       "      <th>last_name</th>\n",
       "      <th>email</th>\n",
       "      <th>application_date</th>\n",
       "      <th>country</th>\n",
       "      <th>yoe</th>\n",
       "      <th>seniority</th>\n",
       "      <th>technology</th>\n",
       "      <th>code_challenge_score</th>\n",
       "      <th>technical_interview_score</th>\n",
       "      <th>year</th>\n",
       "      <th>month</th>\n",
       "    </tr>\n",
       "  </thead>\n",
       "  <tbody>\n",
       "    <tr>\n",
       "      <th>2</th>\n",
       "      <td>Larue</td>\n",
       "      <td>Spinka</td>\n",
       "      <td>okey_schultz41@gmail.com</td>\n",
       "      <td>2020-04-14</td>\n",
       "      <td>Belarus</td>\n",
       "      <td>4</td>\n",
       "      <td>Mid-Level</td>\n",
       "      <td>Client Success</td>\n",
       "      <td>10</td>\n",
       "      <td>9</td>\n",
       "      <td>2020</td>\n",
       "      <td>April</td>\n",
       "    </tr>\n",
       "    <tr>\n",
       "      <th>4</th>\n",
       "      <td>Larue</td>\n",
       "      <td>Altenwerth</td>\n",
       "      <td>minnie.gislason@gmail.com</td>\n",
       "      <td>2020-05-20</td>\n",
       "      <td>Myanmar</td>\n",
       "      <td>13</td>\n",
       "      <td>Mid-Level</td>\n",
       "      <td>Social Media Community Management</td>\n",
       "      <td>9</td>\n",
       "      <td>7</td>\n",
       "      <td>2020</td>\n",
       "      <td>May</td>\n",
       "    </tr>\n",
       "    <tr>\n",
       "      <th>8</th>\n",
       "      <td>Mose</td>\n",
       "      <td>Lakin</td>\n",
       "      <td>dale_murazik@hotmail.com</td>\n",
       "      <td>2018-03-13</td>\n",
       "      <td>Italy</td>\n",
       "      <td>18</td>\n",
       "      <td>Lead</td>\n",
       "      <td>Social Media Community Management</td>\n",
       "      <td>7</td>\n",
       "      <td>10</td>\n",
       "      <td>2018</td>\n",
       "      <td>March</td>\n",
       "    </tr>\n",
       "    <tr>\n",
       "      <th>13</th>\n",
       "      <td>Hilda</td>\n",
       "      <td>Rodriguez</td>\n",
       "      <td>jordan.hyatt@hotmail.com</td>\n",
       "      <td>2020-05-09</td>\n",
       "      <td>El Salvador</td>\n",
       "      <td>16</td>\n",
       "      <td>Junior</td>\n",
       "      <td>System Administration</td>\n",
       "      <td>7</td>\n",
       "      <td>8</td>\n",
       "      <td>2020</td>\n",
       "      <td>May</td>\n",
       "    </tr>\n",
       "    <tr>\n",
       "      <th>22</th>\n",
       "      <td>Crawford</td>\n",
       "      <td>Ullrich</td>\n",
       "      <td>bruce.koch7@yahoo.com</td>\n",
       "      <td>2021-01-09</td>\n",
       "      <td>Dominica</td>\n",
       "      <td>14</td>\n",
       "      <td>Junior</td>\n",
       "      <td>Game Development</td>\n",
       "      <td>8</td>\n",
       "      <td>8</td>\n",
       "      <td>2021</td>\n",
       "      <td>January</td>\n",
       "    </tr>\n",
       "    <tr>\n",
       "      <th>...</th>\n",
       "      <td>...</td>\n",
       "      <td>...</td>\n",
       "      <td>...</td>\n",
       "      <td>...</td>\n",
       "      <td>...</td>\n",
       "      <td>...</td>\n",
       "      <td>...</td>\n",
       "      <td>...</td>\n",
       "      <td>...</td>\n",
       "      <td>...</td>\n",
       "      <td>...</td>\n",
       "      <td>...</td>\n",
       "    </tr>\n",
       "    <tr>\n",
       "      <th>49935</th>\n",
       "      <td>Walton</td>\n",
       "      <td>Kohler</td>\n",
       "      <td>mitchell85@gmail.com</td>\n",
       "      <td>2018-12-15</td>\n",
       "      <td>Uruguay</td>\n",
       "      <td>17</td>\n",
       "      <td>Mid-Level</td>\n",
       "      <td>Database Administration</td>\n",
       "      <td>8</td>\n",
       "      <td>8</td>\n",
       "      <td>2018</td>\n",
       "      <td>December</td>\n",
       "    </tr>\n",
       "    <tr>\n",
       "      <th>49967</th>\n",
       "      <td>Reyna</td>\n",
       "      <td>Gorczany</td>\n",
       "      <td>barry_hilll39@yahoo.com</td>\n",
       "      <td>2018-01-14</td>\n",
       "      <td>Western Sahara</td>\n",
       "      <td>26</td>\n",
       "      <td>Lead</td>\n",
       "      <td>Development - CMS Backend</td>\n",
       "      <td>9</td>\n",
       "      <td>7</td>\n",
       "      <td>2018</td>\n",
       "      <td>January</td>\n",
       "    </tr>\n",
       "    <tr>\n",
       "      <th>49978</th>\n",
       "      <td>Danyka</td>\n",
       "      <td>West</td>\n",
       "      <td>susana.ratke@yahoo.com</td>\n",
       "      <td>2021-01-07</td>\n",
       "      <td>Ethiopia</td>\n",
       "      <td>25</td>\n",
       "      <td>Intern</td>\n",
       "      <td>Game Development</td>\n",
       "      <td>9</td>\n",
       "      <td>10</td>\n",
       "      <td>2021</td>\n",
       "      <td>January</td>\n",
       "    </tr>\n",
       "    <tr>\n",
       "      <th>49989</th>\n",
       "      <td>Bryana</td>\n",
       "      <td>Pagac</td>\n",
       "      <td>dante8@yahoo.com</td>\n",
       "      <td>2018-01-16</td>\n",
       "      <td>Nigeria</td>\n",
       "      <td>18</td>\n",
       "      <td>Intern</td>\n",
       "      <td>QA Manual</td>\n",
       "      <td>8</td>\n",
       "      <td>10</td>\n",
       "      <td>2018</td>\n",
       "      <td>January</td>\n",
       "    </tr>\n",
       "    <tr>\n",
       "      <th>49990</th>\n",
       "      <td>Abigale</td>\n",
       "      <td>Weimann</td>\n",
       "      <td>will36@yahoo.com</td>\n",
       "      <td>2018-06-16</td>\n",
       "      <td>Belgium</td>\n",
       "      <td>16</td>\n",
       "      <td>Mid-Level</td>\n",
       "      <td>Development - Frontend</td>\n",
       "      <td>9</td>\n",
       "      <td>9</td>\n",
       "      <td>2018</td>\n",
       "      <td>June</td>\n",
       "    </tr>\n",
       "  </tbody>\n",
       "</table>\n",
       "<p>6698 rows × 12 columns</p>\n",
       "</div>"
      ],
      "text/plain": [
       "      first_name   last_name                      email application_date  \\\n",
       "2          Larue      Spinka   okey_schultz41@gmail.com       2020-04-14   \n",
       "4          Larue  Altenwerth  minnie.gislason@gmail.com       2020-05-20   \n",
       "8           Mose       Lakin   dale_murazik@hotmail.com       2018-03-13   \n",
       "13         Hilda   Rodriguez   jordan.hyatt@hotmail.com       2020-05-09   \n",
       "22      Crawford     Ullrich      bruce.koch7@yahoo.com       2021-01-09   \n",
       "...          ...         ...                        ...              ...   \n",
       "49935     Walton      Kohler       mitchell85@gmail.com       2018-12-15   \n",
       "49967      Reyna    Gorczany    barry_hilll39@yahoo.com       2018-01-14   \n",
       "49978     Danyka        West     susana.ratke@yahoo.com       2021-01-07   \n",
       "49989     Bryana       Pagac           dante8@yahoo.com       2018-01-16   \n",
       "49990    Abigale     Weimann           will36@yahoo.com       2018-06-16   \n",
       "\n",
       "              country  yoe  seniority                         technology  \\\n",
       "2             Belarus    4  Mid-Level                     Client Success   \n",
       "4             Myanmar   13  Mid-Level  Social Media Community Management   \n",
       "8               Italy   18       Lead  Social Media Community Management   \n",
       "13        El Salvador   16     Junior              System Administration   \n",
       "22           Dominica   14     Junior                   Game Development   \n",
       "...               ...  ...        ...                                ...   \n",
       "49935         Uruguay   17  Mid-Level            Database Administration   \n",
       "49967  Western Sahara   26       Lead          Development - CMS Backend   \n",
       "49978        Ethiopia   25     Intern                   Game Development   \n",
       "49989         Nigeria   18     Intern                          QA Manual   \n",
       "49990         Belgium   16  Mid-Level             Development - Frontend   \n",
       "\n",
       "       code_challenge_score  technical_interview_score  year     month  \n",
       "2                        10                          9  2020     April  \n",
       "4                         9                          7  2020       May  \n",
       "8                         7                         10  2018     March  \n",
       "13                        7                          8  2020       May  \n",
       "22                        8                          8  2021   January  \n",
       "...                     ...                        ...   ...       ...  \n",
       "49935                     8                          8  2018  December  \n",
       "49967                     9                          7  2018   January  \n",
       "49978                     9                         10  2021   January  \n",
       "49989                     8                         10  2018   January  \n",
       "49990                     9                          9  2018      June  \n",
       "\n",
       "[6698 rows x 12 columns]"
      ]
     },
     "execution_count": 95,
     "metadata": {},
     "output_type": "execute_result"
    }
   ],
   "source": [
    "df_hired = df.loc[(df['code_challenge_score'] >= 7) & (df['technical_interview_score'] >= 7)]\n",
    "df_hired"
   ]
  },
  {
   "cell_type": "markdown",
   "metadata": {},
   "source": [
    "### **Comparing the two dataframes**\n",
    "\n",
    "Comparing the applicants who were hired with those who were not, we can conclude that only a very select group managed to join the company, emphasizing the strict quality controls of the company."
   ]
  },
  {
   "cell_type": "code",
   "execution_count": 96,
   "metadata": {},
   "outputs": [
    {
     "data": {
      "image/png": "[encoded data removed]",
      "text/plain": [
       "<Figure size 800x800 with 1 Axes>"
      ]
     },
     "metadata": {},
     "output_type": "display_data"
    }
   ],
   "source": [
    "total_applicants = len(df)\n",
    "total_hired = len(df_hired)\n",
    "\n",
    "labels = [f'Applicants ({total_applicants})', f'Hired ({total_hired})']\n",
    "sizes = [total_applicants, total_hired]\n",
    "colors = ['#ff9999','#66b3ff']\n",
    "explode = (0.1, 0)\n",
    "\n",
    "plt.figure(figsize=(8, 8))\n",
    "plt.pie(sizes,\n",
    "        explode=explode,\n",
    "        labels=labels,\n",
    "        colors=colors,\n",
    "        autopct='%1.1f%%',\n",
    "        startangle=140)\n",
    "plt.title('Comparison of Applicants and Hired Candidates')\n",
    "\n",
    "plt.show()"
   ]
  },
  {
   "cell_type": "markdown",
   "metadata": {},
   "source": [
    "### **Analyzing the technologies used by the hired candidates**\n",
    "\n",
    "We observed that the two technologies with the highest number of candidates hired were **DevOps** and **Game Development**: their notoriety is considerable given the **difference in quantity** with respect to the rest of the technologies."
   ]
  },
  {
   "cell_type": "code",
   "execution_count": 97,
   "metadata": {},
   "outputs": [
    {
     "data": {
      "text/plain": [
       "technology\n",
       "Game Development                           519\n",
       "DevOps                                     495\n",
       "System Administration                      293\n",
       "Development - CMS Backend                  284\n",
       "Database Administration                    282\n",
       "Adobe Experience Manager                   282\n",
       "Client Success                             271\n",
       "Development - Frontend                     266\n",
       "Security                                   266\n",
       "Mulesoft                                   260\n",
       "QA Manual                                  259\n",
       "Salesforce                                 256\n",
       "Development - Backend                      255\n",
       "Data Engineer                              255\n",
       "Business Analytics / Project Management    255\n",
       "Business Intelligence                      254\n",
       "Development - FullStack                    254\n",
       "Development - CMS Frontend                 251\n",
       "Security Compliance                        250\n",
       "Design                                     249\n",
       "QA Automation                              243\n",
       "Sales                                      239\n",
       "Social Media Community Management          237\n",
       "Technical Writing                          223\n",
       "dtype: int64"
      ]
     },
     "execution_count": 97,
     "metadata": {},
     "output_type": "execute_result"
    }
   ],
   "source": [
    "df_technology_count = (df_hired.groupby('technology')\n",
    "                       .size()\n",
    "                       .sort_values(ascending=False))\n",
    "\n",
    "df_technology_count"
   ]
  },
  {
   "cell_type": "code",
   "execution_count": 98,
   "metadata": {},
   "outputs": [],
   "source": [
    "def color_palette(df):\n",
    "    n_colors = len(df)\n",
    "    return sns.color_palette(\"light:#5A9\", n_colors=n_colors)"
   ]
  },
  {
   "cell_type": "code",
   "execution_count": 99,
   "metadata": {},
   "outputs": [
    {
     "data": {
      "image/png": "[encoded data removed]",
      "text/plain": [
       "<Figure size 640x480 with 1 Axes>"
      ]
     },
     "metadata": {},
     "output_type": "display_data"
    }
   ],
   "source": [
    "df_technology_count = df_technology_count.sort_values()\n",
    "\n",
    "df_technology_count.plot(kind='barh', color=color_palette(df_technology_count))\n",
    "\n",
    "plt.xlabel('Count')\n",
    "plt.ylabel('Technology')\n",
    "plt.title('Hired Candidates by Technology')\n",
    "\n",
    "plt.show()"
   ]
  },
  {
   "cell_type": "markdown",
   "metadata": {},
   "source": [
    "### **Analyzing the countries of the hired candidates**\n",
    "\n",
    "Analyzing the 10 countries of origin with the highest number of candidates hired, we find a distribution that varies in very small amounts; this is due to the large number of countries to be analyzed, indicating a large dispersion in the existing data."
   ]
  },
  {
   "cell_type": "code",
   "execution_count": 100,
   "metadata": {},
   "outputs": [
    {
     "data": {
      "text/plain": [
       "country\n",
       "Northern Mariana Islands             44\n",
       "Heard Island and McDonald Islands    41\n",
       "Niger                                40\n",
       "Sri Lanka                            40\n",
       "Seychelles                           40\n",
       "                                     ..\n",
       "Canada                               18\n",
       "Saint Vincent and the Grenadines     16\n",
       "Maldives                             16\n",
       "Guam                                 15\n",
       "Montenegro                           15\n",
       "Length: 244, dtype: int64"
      ]
     },
     "execution_count": 100,
     "metadata": {},
     "output_type": "execute_result"
    }
   ],
   "source": [
    "df_country_count = (df_hired.groupby('country')\n",
    "                       .size()\n",
    "                       .sort_values(ascending=False))\n",
    "\n",
    "df_country_count"
   ]
  },
  {
   "cell_type": "code",
   "execution_count": 101,
   "metadata": {},
   "outputs": [
    {
     "data": {
      "image/png": "[encoded data removed]",
      "text/plain": [
       "<Figure size 640x480 with 1 Axes>"
      ]
     },
     "metadata": {},
     "output_type": "display_data"
    }
   ],
   "source": [
    "df_country_count = df_country_count[0:11].sort_values()\n",
    "\n",
    "df_country_count.plot(kind='barh', color=color_palette(df_country_count))\n",
    "\n",
    "plt.xlabel('Count')\n",
    "plt.ylabel('Country')\n",
    "plt.title('Top 10 Countries by Hired Candidates')\n",
    "\n",
    "plt.show()"
   ]
  },
  {
   "cell_type": "markdown",
   "metadata": {},
   "source": [
    "### **Analyzing the seniority and YOE of the hired candidates**"
   ]
  },
  {
   "cell_type": "markdown",
   "metadata": {},
   "source": [
    "Although Seniority doesn't have the wide dispersion that existed in the countries' case, it does follow the pattern of a distribution that varies in small amounts with respect to the previous values. In this case, it is worth noting that the positions with the highest number of hires were in the Intern and Trainee categories."
   ]
  },
  {
   "cell_type": "code",
   "execution_count": 102,
   "metadata": {},
   "outputs": [
    {
     "data": {
      "text/plain": [
       "seniority\n",
       "Intern       985\n",
       "Junior       977\n",
       "Trainee      973\n",
       "Architect    971\n",
       "Senior       939\n",
       "Lead         929\n",
       "Mid-Level    924\n",
       "dtype: int64"
      ]
     },
     "execution_count": 102,
     "metadata": {},
     "output_type": "execute_result"
    }
   ],
   "source": [
    "df_seniority_count = (df_hired.groupby('seniority')\n",
    "                       .size()\n",
    "                       .sort_values(ascending=False))\n",
    "\n",
    "df_seniority_count"
   ]
  },
  {
   "cell_type": "code",
   "execution_count": 103,
   "metadata": {},
   "outputs": [
    {
     "data": {
      "image/png": "[encoded data removed]",
      "text/plain": [
       "<Figure size 640x480 with 1 Axes>"
      ]
     },
     "metadata": {},
     "output_type": "display_data"
    }
   ],
   "source": [
    "df_seniority_count = df_seniority_count.sort_values()\n",
    "\n",
    "df_seniority_count.plot(kind='bar', color=color_palette(df_seniority_count))\n",
    "\n",
    "for i, v in enumerate(df_seniority_count.values):\n",
    "    plt.text(i, v, str(v), ha='center', va='bottom')\n",
    "\n",
    "plt.xlabel('Seniority')\n",
    "plt.ylabel('Count')\n",
    "plt.title('Hired Candidates by Seniority')\n",
    "\n",
    "plt.show()"
   ]
  },
  {
   "cell_type": "markdown",
   "metadata": {},
   "source": [
    "It's clear that for a candidate to have a Leader Seniority he/she must have had extensive years of experience (YOE). This relationship of YOE and Seniority can also be observed in Intern and Trainee, which must have few years of experience: let's see if this is the case by obtaining the average YOE for each Seniority."
   ]
  },
  {
   "cell_type": "code",
   "execution_count": 104,
   "metadata": {},
   "outputs": [
    {
     "data": {
      "text/plain": [
       "seniority\n",
       "Intern       15.406892\n",
       "Lead         15.365578\n",
       "Architect    15.345105\n",
       "Junior       15.324930\n",
       "Mid-Level    15.213291\n",
       "Trainee      15.178616\n",
       "Senior       15.174529\n",
       "Name: yoe, dtype: float64"
      ]
     },
     "execution_count": 104,
     "metadata": {},
     "output_type": "execute_result"
    }
   ],
   "source": [
    "seniority_avg_yoe = (df.groupby('seniority')['yoe']\n",
    "                     .mean()\n",
    "                     .sort_values(ascending=False))\n",
    "seniority_avg_yoe"
   ]
  },
  {
   "cell_type": "markdown",
   "metadata": {},
   "source": [
    "As can be seen in the results above and in the graph below, there are inconsistencies between Seniority and years of experience (YOE). For example, we find the case of Intern where the average YOE for its candidates is 15.41 years, slightly higher than Lead, a position that requires a high YOE value and has an average of 15.37 years. The same case can be observed with Trainee, which has an exaggeratedly high YOE for what the role really represents."
   ]
  },
  {
   "cell_type": "code",
   "execution_count": 105,
   "metadata": {},
   "outputs": [
    {
     "data": {
      "image/png": "[encoded data removed]",
      "text/plain": [
       "<Figure size 640x480 with 1 Axes>"
      ]
     },
     "metadata": {},
     "output_type": "display_data"
    }
   ],
   "source": [
    "seniority_avg_yoe = seniority_avg_yoe.sort_values(ascending=True)\n",
    "seniority_avg_yoe.plot(kind='barh', color=color_palette(seniority_avg_yoe))\n",
    "\n",
    "plt.xlabel('Seniority')\n",
    "plt.ylabel('Average Years of Experience')\n",
    "plt.title('Average Years of Experience by Seniority')\n",
    "\n",
    "for i, v in enumerate(seniority_avg_yoe.values):\n",
    "    plt.text(v, i, str(round(v, 2)), ha='left', va='center')\n",
    "\n",
    "plt.show()"
   ]
  },
  {
   "cell_type": "markdown",
   "metadata": {},
   "source": [
    "## **Conclusions and Findings**\n",
    "\n",
    "* Given the randomness of the data generated, many relationships between variables are incongruent. However, these are relationships that, given a dataset with real data, must be posed in order to make findings relevant to the context to be analyzed.\n",
    "\n",
    "* The technologies in which candidates specialize can be synthesized into a smaller number of categories in order to facilitate future analysis through dashboard graphs.\n",
    "\n",
    "* There are a significant number of candidates who apply more than once.\n",
    "\n",
    "* There is an irregular and inconsistent correlation between years of experience (YOE) and the candidate's role (Seniority).\n"
   ]
  }
 ],
 "metadata": {
  "kernelspec": {
   "display_name": "workshop-1-leY0FyWE-py3.12",
   "language": "python",
   "name": "python3"
  },
  "language_info": {
   "codemirror_mode": {
    "name": "ipython",
    "version": 3
   },
   "file_extension": ".py",
   "mimetype": "text/x-python",
   "name": "python",
   "nbconvert_exporter": "python",
   "pygments_lexer": "ipython3",
   "version": "3.12.7"
  }
 },
 "nbformat": 4,
 "nbformat_minor": 2
}
